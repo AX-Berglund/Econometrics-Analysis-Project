{
 "cells": [
  {
   "cell_type": "markdown",
   "metadata": {},
   "source": [
    "# PART 2 - HETEROSKEDASTICITY"
   ]
  },
  {
   "cell_type": "markdown",
   "metadata": {},
   "source": [
    "18. Explain the problem of heteroskedasticity with an example from the course.\n"
   ]
  },
  {
   "cell_type": "markdown",
   "metadata": {},
   "source": [
    "\n",
    "19. In the specification of question 9, test the hypothesis of no heteroskedasticity of linear form, i.e., in the regression of $u^2$ on `constant`, `crime`, `nox`, `rooms`, `proptax`, test $H_0: \\delta_{crime}, \\delta_{nox}, \\delta_{rooms}, \\delta_{proptax} = 0$, where the coefficients $\\delta_k$ ($k =$ `crime`, `nox`, `rooms`, `proptax`) are associated with the corresponding explanatory variables.\n"
   ]
  },
  {
   "cell_type": "markdown",
   "metadata": {},
   "source": [
    "\n",
    "20. In the specification of question 10, test the hypothesis of no heteroskedasticity of linear form.\n"
   ]
  },
  {
   "cell_type": "markdown",
   "metadata": {},
   "source": [
    "\n",
    "21. In the specification of question 11, test the hypothesis of no heteroskedasticity of linear form.\n"
   ]
  },
  {
   "cell_type": "markdown",
   "metadata": {},
   "source": [
    "\n",
    "22. Comment on the differences between your results for questions 20, 21, and 22.\n"
   ]
  },
  {
   "cell_type": "markdown",
   "metadata": {},
   "source": [
    "\n",
    "23. Using the specification of question 9, identify the most significant variable causing heteroskedasticity using the student statistics, and run a Weighted Least Squares (WLS) regression with the identified variable as the weight. Compare the standard errors with those of question 9. Comment on your results.\n"
   ]
  }
 ],
 "metadata": {
  "language_info": {
   "name": "python"
  }
 },
 "nbformat": 4,
 "nbformat_minor": 2
}
