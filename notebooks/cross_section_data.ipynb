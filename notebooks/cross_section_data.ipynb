{
 "cells": [
  {
   "cell_type": "markdown",
   "metadata": {},
   "source": [
    "# Part 1 - Cross-Section Data"
   ]
  },
  {
   "cell_type": "markdown",
   "metadata": {},
   "source": [
    "## Importing the libraries"
   ]
  },
  {
   "cell_type": "code",
   "execution_count": 44,
   "metadata": {},
   "outputs": [],
   "source": [
    "import pandas as pd\n",
    "import matplotlib.pyplot as plt\n",
    "import statsmodels.api as sm\n",
    "from scipy import stats\n",
    "\n"
   ]
  },
  {
   "cell_type": "markdown",
   "metadata": {},
   "source": [
    "## Load data"
   ]
  },
  {
   "cell_type": "code",
   "execution_count": 45,
   "metadata": {},
   "outputs": [
    {
     "data": {
      "text/plain": [
       "(506, 12)"
      ]
     },
     "execution_count": 45,
     "metadata": {},
     "output_type": "execute_result"
    }
   ],
   "source": [
    "df = pd.read_csv('../data/HPRICE2.raw', sep='\\s+', header=None)\n",
    "df.shape\n"
   ]
  },
  {
   "cell_type": "markdown",
   "metadata": {},
   "source": [
    "### Show first 5 rows of the dataframe"
   ]
  },
  {
   "cell_type": "code",
   "execution_count": 46,
   "metadata": {},
   "outputs": [
    {
     "data": {
      "text/html": [
       "<div>\n",
       "<style scoped>\n",
       "    .dataframe tbody tr th:only-of-type {\n",
       "        vertical-align: middle;\n",
       "    }\n",
       "\n",
       "    .dataframe tbody tr th {\n",
       "        vertical-align: top;\n",
       "    }\n",
       "\n",
       "    .dataframe thead th {\n",
       "        text-align: right;\n",
       "    }\n",
       "</style>\n",
       "<table border=\"1\" class=\"dataframe\">\n",
       "  <thead>\n",
       "    <tr style=\"text-align: right;\">\n",
       "      <th></th>\n",
       "      <th>0</th>\n",
       "      <th>1</th>\n",
       "      <th>2</th>\n",
       "      <th>3</th>\n",
       "      <th>4</th>\n",
       "      <th>5</th>\n",
       "      <th>6</th>\n",
       "      <th>7</th>\n",
       "      <th>8</th>\n",
       "      <th>9</th>\n",
       "      <th>10</th>\n",
       "      <th>11</th>\n",
       "    </tr>\n",
       "  </thead>\n",
       "  <tbody>\n",
       "    <tr>\n",
       "      <th>0</th>\n",
       "      <td>24000</td>\n",
       "      <td>0.006</td>\n",
       "      <td>5.38</td>\n",
       "      <td>6.57</td>\n",
       "      <td>4.09</td>\n",
       "      <td>1</td>\n",
       "      <td>29.6</td>\n",
       "      <td>15.3</td>\n",
       "      <td>4.98</td>\n",
       "      <td>10.085810</td>\n",
       "      <td>1.682688</td>\n",
       "      <td>5.690360</td>\n",
       "    </tr>\n",
       "    <tr>\n",
       "      <th>1</th>\n",
       "      <td>21599</td>\n",
       "      <td>0.027</td>\n",
       "      <td>4.69</td>\n",
       "      <td>6.42</td>\n",
       "      <td>4.97</td>\n",
       "      <td>2</td>\n",
       "      <td>24.2</td>\n",
       "      <td>17.8</td>\n",
       "      <td>9.14</td>\n",
       "      <td>9.980402</td>\n",
       "      <td>1.545433</td>\n",
       "      <td>5.488938</td>\n",
       "    </tr>\n",
       "    <tr>\n",
       "      <th>2</th>\n",
       "      <td>34700</td>\n",
       "      <td>0.027</td>\n",
       "      <td>4.69</td>\n",
       "      <td>7.18</td>\n",
       "      <td>4.97</td>\n",
       "      <td>2</td>\n",
       "      <td>24.2</td>\n",
       "      <td>17.8</td>\n",
       "      <td>4.03</td>\n",
       "      <td>10.454500</td>\n",
       "      <td>1.545433</td>\n",
       "      <td>5.488938</td>\n",
       "    </tr>\n",
       "    <tr>\n",
       "      <th>3</th>\n",
       "      <td>33400</td>\n",
       "      <td>0.032</td>\n",
       "      <td>4.58</td>\n",
       "      <td>7.00</td>\n",
       "      <td>6.06</td>\n",
       "      <td>3</td>\n",
       "      <td>22.2</td>\n",
       "      <td>18.7</td>\n",
       "      <td>2.94</td>\n",
       "      <td>10.416310</td>\n",
       "      <td>1.521699</td>\n",
       "      <td>5.402678</td>\n",
       "    </tr>\n",
       "    <tr>\n",
       "      <th>4</th>\n",
       "      <td>36199</td>\n",
       "      <td>0.069</td>\n",
       "      <td>4.58</td>\n",
       "      <td>7.15</td>\n",
       "      <td>6.06</td>\n",
       "      <td>3</td>\n",
       "      <td>22.2</td>\n",
       "      <td>18.7</td>\n",
       "      <td>5.33</td>\n",
       "      <td>10.496790</td>\n",
       "      <td>1.521699</td>\n",
       "      <td>5.402678</td>\n",
       "    </tr>\n",
       "  </tbody>\n",
       "</table>\n",
       "</div>"
      ],
      "text/plain": [
       "      0      1     2     3     4   5     6     7     8          9         10  \\\n",
       "0  24000  0.006  5.38  6.57  4.09   1  29.6  15.3  4.98  10.085810  1.682688   \n",
       "1  21599  0.027  4.69  6.42  4.97   2  24.2  17.8  9.14   9.980402  1.545433   \n",
       "2  34700  0.027  4.69  7.18  4.97   2  24.2  17.8  4.03  10.454500  1.545433   \n",
       "3  33400  0.032  4.58  7.00  6.06   3  22.2  18.7  2.94  10.416310  1.521699   \n",
       "4  36199  0.069  4.58  7.15  6.06   3  22.2  18.7  5.33  10.496790  1.521699   \n",
       "\n",
       "         11  \n",
       "0  5.690360  \n",
       "1  5.488938  \n",
       "2  5.488938  \n",
       "3  5.402678  \n",
       "4  5.402678  "
      ]
     },
     "execution_count": 46,
     "metadata": {},
     "output_type": "execute_result"
    }
   ],
   "source": [
    "df.head()"
   ]
  },
  {
   "cell_type": "markdown",
   "metadata": {},
   "source": [
    "### Assign Column Names"
   ]
  },
  {
   "cell_type": "code",
   "execution_count": 47,
   "metadata": {},
   "outputs": [],
   "source": [
    "# Assign column names, fetched from the DES file \n",
    "column_names = [\n",
    "    \"price\",      # median housing price, $\n",
    "    \"crime\",      # crimes committed per capita\n",
    "    \"nox\",        # nitrous oxide, parts per 100 mill.\n",
    "    \"rooms\",      # avg number of rooms per house\n",
    "    \"dist\",       # weighted dist. to 5 employ centers\n",
    "    \"radial\",     # accessibility index to radial hghwys\n",
    "    \"proptax\",    # property tax per $1000\n",
    "    \"stratio\",    # average student-teacher ratio\n",
    "    \"lowstat\",    # % of people 'lower status'\n",
    "    \"lprice\",     # log(price)\n",
    "    \"lnox\",       # log(nox)\n",
    "    \"lproptax\"    # log(proptax)\n",
    "]\n",
    "\n",
    "# Assign these column names to the DataFrame\n",
    "df.columns = column_names"
   ]
  },
  {
   "cell_type": "markdown",
   "metadata": {},
   "source": [
    "### Show first 5 rows of the dataframe"
   ]
  },
  {
   "cell_type": "code",
   "execution_count": 48,
   "metadata": {},
   "outputs": [
    {
     "data": {
      "text/html": [
       "<div>\n",
       "<style scoped>\n",
       "    .dataframe tbody tr th:only-of-type {\n",
       "        vertical-align: middle;\n",
       "    }\n",
       "\n",
       "    .dataframe tbody tr th {\n",
       "        vertical-align: top;\n",
       "    }\n",
       "\n",
       "    .dataframe thead th {\n",
       "        text-align: right;\n",
       "    }\n",
       "</style>\n",
       "<table border=\"1\" class=\"dataframe\">\n",
       "  <thead>\n",
       "    <tr style=\"text-align: right;\">\n",
       "      <th></th>\n",
       "      <th>price</th>\n",
       "      <th>crime</th>\n",
       "      <th>nox</th>\n",
       "      <th>rooms</th>\n",
       "      <th>dist</th>\n",
       "      <th>radial</th>\n",
       "      <th>proptax</th>\n",
       "      <th>stratio</th>\n",
       "      <th>lowstat</th>\n",
       "      <th>lprice</th>\n",
       "      <th>lnox</th>\n",
       "      <th>lproptax</th>\n",
       "    </tr>\n",
       "  </thead>\n",
       "  <tbody>\n",
       "    <tr>\n",
       "      <th>0</th>\n",
       "      <td>24000</td>\n",
       "      <td>0.006</td>\n",
       "      <td>5.38</td>\n",
       "      <td>6.57</td>\n",
       "      <td>4.09</td>\n",
       "      <td>1</td>\n",
       "      <td>29.6</td>\n",
       "      <td>15.3</td>\n",
       "      <td>4.98</td>\n",
       "      <td>10.085810</td>\n",
       "      <td>1.682688</td>\n",
       "      <td>5.690360</td>\n",
       "    </tr>\n",
       "    <tr>\n",
       "      <th>1</th>\n",
       "      <td>21599</td>\n",
       "      <td>0.027</td>\n",
       "      <td>4.69</td>\n",
       "      <td>6.42</td>\n",
       "      <td>4.97</td>\n",
       "      <td>2</td>\n",
       "      <td>24.2</td>\n",
       "      <td>17.8</td>\n",
       "      <td>9.14</td>\n",
       "      <td>9.980402</td>\n",
       "      <td>1.545433</td>\n",
       "      <td>5.488938</td>\n",
       "    </tr>\n",
       "    <tr>\n",
       "      <th>2</th>\n",
       "      <td>34700</td>\n",
       "      <td>0.027</td>\n",
       "      <td>4.69</td>\n",
       "      <td>7.18</td>\n",
       "      <td>4.97</td>\n",
       "      <td>2</td>\n",
       "      <td>24.2</td>\n",
       "      <td>17.8</td>\n",
       "      <td>4.03</td>\n",
       "      <td>10.454500</td>\n",
       "      <td>1.545433</td>\n",
       "      <td>5.488938</td>\n",
       "    </tr>\n",
       "    <tr>\n",
       "      <th>3</th>\n",
       "      <td>33400</td>\n",
       "      <td>0.032</td>\n",
       "      <td>4.58</td>\n",
       "      <td>7.00</td>\n",
       "      <td>6.06</td>\n",
       "      <td>3</td>\n",
       "      <td>22.2</td>\n",
       "      <td>18.7</td>\n",
       "      <td>2.94</td>\n",
       "      <td>10.416310</td>\n",
       "      <td>1.521699</td>\n",
       "      <td>5.402678</td>\n",
       "    </tr>\n",
       "    <tr>\n",
       "      <th>4</th>\n",
       "      <td>36199</td>\n",
       "      <td>0.069</td>\n",
       "      <td>4.58</td>\n",
       "      <td>7.15</td>\n",
       "      <td>6.06</td>\n",
       "      <td>3</td>\n",
       "      <td>22.2</td>\n",
       "      <td>18.7</td>\n",
       "      <td>5.33</td>\n",
       "      <td>10.496790</td>\n",
       "      <td>1.521699</td>\n",
       "      <td>5.402678</td>\n",
       "    </tr>\n",
       "  </tbody>\n",
       "</table>\n",
       "</div>"
      ],
      "text/plain": [
       "   price  crime   nox  rooms  dist  radial  proptax  stratio  lowstat  \\\n",
       "0  24000  0.006  5.38   6.57  4.09       1     29.6     15.3     4.98   \n",
       "1  21599  0.027  4.69   6.42  4.97       2     24.2     17.8     9.14   \n",
       "2  34700  0.027  4.69   7.18  4.97       2     24.2     17.8     4.03   \n",
       "3  33400  0.032  4.58   7.00  6.06       3     22.2     18.7     2.94   \n",
       "4  36199  0.069  4.58   7.15  6.06       3     22.2     18.7     5.33   \n",
       "\n",
       "      lprice      lnox  lproptax  \n",
       "0  10.085810  1.682688  5.690360  \n",
       "1   9.980402  1.545433  5.488938  \n",
       "2  10.454500  1.545433  5.488938  \n",
       "3  10.416310  1.521699  5.402678  \n",
       "4  10.496790  1.521699  5.402678  "
      ]
     },
     "execution_count": 48,
     "metadata": {},
     "output_type": "execute_result"
    }
   ],
   "source": [
    "df.head()"
   ]
  },
  {
   "cell_type": "code",
   "execution_count": null,
   "metadata": {},
   "outputs": [],
   "source": []
  },
  {
   "cell_type": "markdown",
   "metadata": {},
   "source": [
    "# Questions\n",
    "---"
   ]
  },
  {
   "cell_type": "markdown",
   "metadata": {},
   "source": [
    "### 1. State the fundamental hypothesis under which the Ordinary Least Squares (OLS) estimators are unbiased.\n",
    "\n",
    "\n",
    "**Answer:** The fundamental hypothesis under which the Ordinary Least Squares (OLS) estimators are unbiased is that the error term is uncorrelated with the independent variables. Meaning \n",
    "$$\\mathbb{E}[\\hat{\\beta}] = \\beta$$\n",
    "\n",
    "and \n",
    "\n",
    "$$\\mathbb{E}[\\varepsilon \\mid X] = 0$$\n",
    "---\n",
    "\n"
   ]
  },
  {
   "cell_type": "markdown",
   "metadata": {},
   "source": [
    "### 2. Show that under this assumption the OLS estimators are indeed unbiased.\n",
    "\n",
    "The **OLS estimator** is defined as:\n",
    "\n",
    "$$\n",
    "\\hat{\\beta} = (X^\\top X)^{-1} X^\\top y\n",
    "$$\n",
    "\n",
    "This formula calculates the coefficients that minimize the sum of squared residuals in the linear regression model, in a straight computation.\n",
    "\n",
    "The regression model is written as:\n",
    "$$\n",
    "y = X\\beta + \\varepsilon\n",
    "$$\n",
    "\n",
    "Substituting $y$ into the OLS estimator:\n",
    "$$\n",
    "\\hat{\\beta} = (X^\\top X)^{-1} X^\\top (X\\beta + \\varepsilon)\n",
    "$$\n",
    "Simplifying:\n",
    "$$\n",
    "\\hat{\\beta} = (X^\\top X)^{-1} X^\\top X\\beta + (X^\\top X)^{-1} X^\\top \\varepsilon = \\beta + (X^\\top X)^{-1} X^\\top \\varepsilon\n",
    "$$\n",
    "\n",
    "Taking expectations:\n",
    "$$\n",
    "\\mathbb{E}[\\hat{\\beta}] = \\beta + (X^\\top X)^{-1} X^\\top \\mathbb{E}[\\varepsilon]\n",
    "$$\n",
    "\n",
    "If the fundamental hypothesis $\\mathbb{E}[\\varepsilon \\mid X] = 0$ holds, then $\\mathbb{E}[\\varepsilon] = 0$, leading to:\n",
    "$$\n",
    "\\mathbb{E}[\\hat{\\beta}] = \\beta\n",
    "$$\n",
    "---"
   ]
  },
  {
   "cell_type": "markdown",
   "metadata": {},
   "source": [
    "### 3. Explain the sample selection bias with an example from the course.\n",
    "**Answer:** Sample selection bias occurs when the data analyzed is not representative of the entire population, often due to the way the sample is selected. An example talked about in the course is for example WWII RAF aircraft which illustrates this: engineers analyzed returning planes and proposed reinforcing areas with the most bullet holes, overlooking that these planes survived despite damage. Abraham Wald corrected this by suggesting reinforcement in areas with little or no damage on returning planes, as planes hit in those critical areas likely did not return. This example highlights the importance of considering what is missing from the sample to avoid biased conclusions.   \n",
    "\n",
    "---"
   ]
  },
  {
   "cell_type": "markdown",
   "metadata": {},
   "source": [
    "### 4. Explain the omitted variable bias with an example from the course.\n",
    "**Answer:** Omitted variable bias occurs when an important variable that influences the outcome is left out of the analysis, leading to biased and inconsistent estimates. In the example of studying the effect of fertilizers on agricultural yield, the omitted variable is soil quality, which also impacts yield. If farmers tend to apply more fertilizer to high-quality land, the statistical analysis might overestimate the effect of fertilizer because it incorrectly attributes the higher yields entirely to fertilizer, ignoring the contribution of soil quality. Hence, the estimated outcome is said to be biased.\n",
    "\n",
    "---\n"
   ]
  },
  {
   "cell_type": "markdown",
   "metadata": {},
   "source": [
    "### 5. Explain the problem of multicollinearity. Is it a problem in this dataset? (Meaning the loaded df)\n",
    "**Answer:** Multicollinearity occurs when two or more columns of the dataset\n",
    "are highly or nearly linearly dependent, meaning one variable can be almost perfectly predicted from the others. This makes it difficult to estimate the individual effects of each variable on the dependent variable. The following cell shows the correlation matrix of the dataset, which can be used to identify multicollinearity. If the correlation between two variables is close to 1 or -1, it indicates multicollinearity. In this dataset, multicollinearity does not seem to be a problem as the correlation values are not close to 1 or -1. It should be noted that the log relationship between the columns does naturally show a high correlation, but this is not a problem as it is expected.\n",
    "\n",
    "---"
   ]
  },
  {
   "cell_type": "code",
   "execution_count": 49,
   "metadata": {},
   "outputs": [
    {
     "name": "stdout",
     "output_type": "stream",
     "text": [
      "             price     crime       nox     rooms      dist    radial  \\\n",
      "price     1.000000 -0.387919 -0.426037  0.695780  0.249339 -0.380837   \n",
      "crime    -0.387919  1.000000  0.421152 -0.218816 -0.379909  0.625442   \n",
      "nox      -0.426037  0.421152  1.000000 -0.302828 -0.770222  0.610328   \n",
      "rooms     0.695780 -0.218816 -0.302828  1.000000  0.205410 -0.209773   \n",
      "dist      0.249339 -0.379909 -0.770222  0.205410  1.000000 -0.495065   \n",
      "radial   -0.380837  0.625442  0.610328 -0.209773 -0.495065  1.000000   \n",
      "proptax  -0.467087  0.582819  0.666981 -0.292120 -0.534379  0.910228   \n",
      "stratio  -0.503340  0.288691  0.186863 -0.354008 -0.229269  0.464244   \n",
      "lowstat  -0.726391  0.447033  0.585613 -0.609605 -0.495602  0.476038   \n",
      "lprice    0.953320 -0.527495 -0.508767  0.632909  0.342008 -0.480971   \n",
      "lnox     -0.429447  0.429639  0.993943 -0.304988 -0.808795  0.624171   \n",
      "lproptax -0.473167  0.551393  0.659206 -0.299269 -0.513897  0.863531   \n",
      "\n",
      "           proptax   stratio   lowstat    lprice      lnox  lproptax  \n",
      "price    -0.467087 -0.503340 -0.726391  0.953320 -0.429447 -0.473167  \n",
      "crime     0.582819  0.288691  0.447033 -0.527495  0.429639  0.551393  \n",
      "nox       0.666981  0.186863  0.585613 -0.508767  0.993943  0.659206  \n",
      "rooms    -0.292120 -0.354008 -0.609605  0.632909 -0.304988 -0.299269  \n",
      "dist     -0.534379 -0.229269 -0.495602  0.342008 -0.808795 -0.513897  \n",
      "radial    0.910228  0.464244  0.476038 -0.480971  0.624171  0.863531  \n",
      "proptax   1.000000  0.454238  0.527624 -0.559671  0.677314  0.988586  \n",
      "stratio   0.454238  1.000000  0.365402 -0.497635  0.227910  0.422231  \n",
      "lowstat   0.527624  0.365402  1.000000 -0.791439  0.596220  0.510948  \n",
      "lprice   -0.559671 -0.497635 -0.791439  1.000000 -0.513371 -0.555311  \n",
      "lnox      0.677314  0.227910  0.596220 -0.513371  1.000000  0.667252  \n",
      "lproptax  0.988586  0.422231  0.510948 -0.555311  0.667252  1.000000  \n",
      "Highly correlated pairs:\n",
      "             price  crime       nox  rooms  dist    radial   proptax  stratio  \\\n",
      "price         NaN    NaN       NaN    NaN   NaN       NaN       NaN      NaN   \n",
      "crime         NaN    NaN       NaN    NaN   NaN       NaN       NaN      NaN   \n",
      "nox           NaN    NaN       NaN    NaN   NaN       NaN       NaN      NaN   \n",
      "rooms         NaN    NaN       NaN    NaN   NaN       NaN       NaN      NaN   \n",
      "dist          NaN    NaN       NaN    NaN   NaN       NaN       NaN      NaN   \n",
      "radial        NaN    NaN       NaN    NaN   NaN       NaN  0.910228      NaN   \n",
      "proptax       NaN    NaN       NaN    NaN   NaN  0.910228       NaN      NaN   \n",
      "stratio       NaN    NaN       NaN    NaN   NaN       NaN       NaN      NaN   \n",
      "lowstat       NaN    NaN       NaN    NaN   NaN       NaN       NaN      NaN   \n",
      "lprice    0.95332    NaN       NaN    NaN   NaN       NaN       NaN      NaN   \n",
      "lnox          NaN    NaN  0.993943    NaN   NaN       NaN       NaN      NaN   \n",
      "lproptax      NaN    NaN       NaN    NaN   NaN  0.863531  0.988586      NaN   \n",
      "\n",
      "          lowstat   lprice      lnox  lproptax  \n",
      "price         NaN  0.95332       NaN       NaN  \n",
      "crime         NaN      NaN       NaN       NaN  \n",
      "nox           NaN      NaN  0.993943       NaN  \n",
      "rooms         NaN      NaN       NaN       NaN  \n",
      "dist          NaN      NaN       NaN       NaN  \n",
      "radial        NaN      NaN       NaN  0.863531  \n",
      "proptax       NaN      NaN       NaN  0.988586  \n",
      "stratio       NaN      NaN       NaN       NaN  \n",
      "lowstat       NaN      NaN       NaN       NaN  \n",
      "lprice        NaN      NaN       NaN       NaN  \n",
      "lnox          NaN      NaN       NaN       NaN  \n",
      "lproptax      NaN      NaN       NaN       NaN  \n"
     ]
    }
   ],
   "source": [
    "# Calculate the correlation matrix\n",
    "correlation_matrix = df.corr()\n",
    "\n",
    "# Display the correlation matrix\n",
    "print(correlation_matrix)\n",
    "\n",
    "# Highlight correlations above a threshold (e.g., > 0.8)\n",
    "threshold = 0.8\n",
    "high_correlation = correlation_matrix[(correlation_matrix > threshold) & (correlation_matrix != 1.0)]\n",
    "print(\"Highly correlated pairs:\\n\", high_correlation)"
   ]
  },
  {
   "cell_type": "markdown",
   "metadata": {},
   "source": [
    "---"
   ]
  },
  {
   "cell_type": "markdown",
   "metadata": {},
   "source": [
    "### 6. Create three categories of `nox` levels (low, medium, high), corresponding to the following percentiles: 0-25%, 26%-74%, 75%-100%.\n"
   ]
  },
  {
   "cell_type": "code",
   "execution_count": 50,
   "metadata": {},
   "outputs": [
    {
     "name": "stdout",
     "output_type": "stream",
     "text": [
      "(506, 13) - this is the same number of rows, and one more column\n"
     ]
    },
    {
     "data": {
      "text/html": [
       "<div>\n",
       "<style scoped>\n",
       "    .dataframe tbody tr th:only-of-type {\n",
       "        vertical-align: middle;\n",
       "    }\n",
       "\n",
       "    .dataframe tbody tr th {\n",
       "        vertical-align: top;\n",
       "    }\n",
       "\n",
       "    .dataframe thead th {\n",
       "        text-align: right;\n",
       "    }\n",
       "</style>\n",
       "<table border=\"1\" class=\"dataframe\">\n",
       "  <thead>\n",
       "    <tr style=\"text-align: right;\">\n",
       "      <th></th>\n",
       "      <th>price</th>\n",
       "      <th>crime</th>\n",
       "      <th>nox</th>\n",
       "      <th>rooms</th>\n",
       "      <th>dist</th>\n",
       "      <th>radial</th>\n",
       "      <th>proptax</th>\n",
       "      <th>stratio</th>\n",
       "      <th>lowstat</th>\n",
       "      <th>lprice</th>\n",
       "      <th>lnox</th>\n",
       "      <th>lproptax</th>\n",
       "      <th>nox_category</th>\n",
       "    </tr>\n",
       "  </thead>\n",
       "  <tbody>\n",
       "    <tr>\n",
       "      <th>0</th>\n",
       "      <td>24000</td>\n",
       "      <td>0.006</td>\n",
       "      <td>5.38</td>\n",
       "      <td>6.57</td>\n",
       "      <td>4.09</td>\n",
       "      <td>1</td>\n",
       "      <td>29.6</td>\n",
       "      <td>15.3</td>\n",
       "      <td>4.98</td>\n",
       "      <td>10.085810</td>\n",
       "      <td>1.682688</td>\n",
       "      <td>5.690360</td>\n",
       "      <td>Medium</td>\n",
       "    </tr>\n",
       "    <tr>\n",
       "      <th>1</th>\n",
       "      <td>21599</td>\n",
       "      <td>0.027</td>\n",
       "      <td>4.69</td>\n",
       "      <td>6.42</td>\n",
       "      <td>4.97</td>\n",
       "      <td>2</td>\n",
       "      <td>24.2</td>\n",
       "      <td>17.8</td>\n",
       "      <td>9.14</td>\n",
       "      <td>9.980402</td>\n",
       "      <td>1.545433</td>\n",
       "      <td>5.488938</td>\n",
       "      <td>Medium</td>\n",
       "    </tr>\n",
       "  </tbody>\n",
       "</table>\n",
       "</div>"
      ],
      "text/plain": [
       "   price  crime   nox  rooms  dist  radial  proptax  stratio  lowstat  \\\n",
       "0  24000  0.006  5.38   6.57  4.09       1     29.6     15.3     4.98   \n",
       "1  21599  0.027  4.69   6.42  4.97       2     24.2     17.8     9.14   \n",
       "\n",
       "      lprice      lnox  lproptax nox_category  \n",
       "0  10.085810  1.682688  5.690360       Medium  \n",
       "1   9.980402  1.545433  5.488938       Medium  "
      ]
     },
     "execution_count": 50,
     "metadata": {},
     "output_type": "execute_result"
    }
   ],
   "source": [
    "low, high = df['nox'].quantile([0.25, 0.75])\n",
    "\n",
    "df['nox_category'] = pd.cut(\n",
    "    df['nox'], \n",
    "    bins=[-float('inf'), low, high, float('inf')], \n",
    "    labels=['Low', 'Medium', 'High']\n",
    ")\n",
    "print(str(df.shape) + \" - this is the same number of rows, and one more column\")\n",
    "df.head(2)"
   ]
  },
  {
   "cell_type": "markdown",
   "metadata": {},
   "source": [
    "### Save the dataframe so we can use it for the next part"
   ]
  },
  {
   "cell_type": "code",
   "execution_count": 51,
   "metadata": {},
   "outputs": [],
   "source": [
    "# Save the DataFrame to a CSV file\n",
    "df.to_csv('../data/HPRICE2_processed.csv', index=False)"
   ]
  },
  {
   "cell_type": "markdown",
   "metadata": {},
   "source": [
    "---"
   ]
  },
  {
   "cell_type": "markdown",
   "metadata": {},
   "source": [
    "### 7. Compute for each category of `nox` level the average median price and comment on your results.\n"
   ]
  },
  {
   "cell_type": "code",
   "execution_count": 52,
   "metadata": {},
   "outputs": [
    {
     "name": "stdout",
     "output_type": "stream",
     "text": [
      "nox_category\n",
      "Low       26977.093750\n",
      "Medium    22741.555118\n",
      "High      17430.653226\n",
      "Name: price, dtype: float64\n"
     ]
    }
   ],
   "source": [
    "average_price_per_category = df.groupby('nox_category', observed=False)['price'].mean()\n",
    "\n",
    "print(average_price_per_category)"
   ]
  },
  {
   "cell_type": "markdown",
   "metadata": {},
   "source": [
    "---"
   ]
  },
  {
   "cell_type": "markdown",
   "metadata": {},
   "source": [
    "\n",
    "### 8. Produce a scatter plot with the variable `price` on the y-axis and the variable `nox` on the x-axis. Is this a ceteris paribus effect?\n",
    "**Answer:** For a ceteris paribus effect, we would need to hold all other variables constant while analyzing the relationship between `price` and `nox`. In this scatter plot, we are not holding other variables constant, so it does not represent a ceteris paribus effect. The scatter plot shows the relationship between `price` and `nox` without controlling for other variables, making it difficult to isolate the effect of `nox` on `price`.\n"
   ]
  },
  {
   "cell_type": "code",
   "execution_count": 53,
   "metadata": {},
   "outputs": [
    {
     "data": {
      "image/png": "[encoded data removed]",
      "text/plain": [
       "<Figure size 800x600 with 1 Axes>"
      ]
     },
     "metadata": {},
     "output_type": "display_data"
    }
   ],
   "source": [
    "plt.figure(figsize=(8, 6))\n",
    "plt.scatter(df['nox'], df['price'])\n",
    "plt.xlabel('Nox Levels')\n",
    "plt.ylabel('Price')\n",
    "plt.grid(True)\n",
    "plt.show()\n"
   ]
  },
  {
   "cell_type": "markdown",
   "metadata": {},
   "source": [
    "---"
   ]
  },
  {
   "cell_type": "markdown",
   "metadata": {},
   "source": [
    "\n",
    "### 9. Run a regression of `price` on a constant, `crime`, `nox`, `rooms`, and `proptax`. Comment on the histogram of the residuals. Interpret all coefficients.\n",
    "**Answer:** To do this regression, we will use the `statsmodels` library in Python. The regression model is written as:\n",
    "$$\n",
    "price = \\beta_0 + \\beta_1 \\cdot crime + \\beta_2 \\cdot nox + \\beta_3 \\cdot rooms + \\beta_4 \\cdot proptax + \\varepsilon\n",
    "$$\n",
    "\n",
    "\n"
   ]
  },
  {
   "cell_type": "code",
   "execution_count": 54,
   "metadata": {},
   "outputs": [
    {
     "data": {
      "text/html": [
       "<div>\n",
       "<style scoped>\n",
       "    .dataframe tbody tr th:only-of-type {\n",
       "        vertical-align: middle;\n",
       "    }\n",
       "\n",
       "    .dataframe tbody tr th {\n",
       "        vertical-align: top;\n",
       "    }\n",
       "\n",
       "    .dataframe thead th {\n",
       "        text-align: right;\n",
       "    }\n",
       "</style>\n",
       "<table border=\"1\" class=\"dataframe\">\n",
       "  <thead>\n",
       "    <tr style=\"text-align: right;\">\n",
       "      <th></th>\n",
       "      <th>const</th>\n",
       "      <th>crime</th>\n",
       "      <th>nox</th>\n",
       "      <th>rooms</th>\n",
       "      <th>proptax</th>\n",
       "    </tr>\n",
       "  </thead>\n",
       "  <tbody>\n",
       "    <tr>\n",
       "      <th>0</th>\n",
       "      <td>1.0</td>\n",
       "      <td>0.006</td>\n",
       "      <td>5.38</td>\n",
       "      <td>6.57</td>\n",
       "      <td>29.6</td>\n",
       "    </tr>\n",
       "    <tr>\n",
       "      <th>1</th>\n",
       "      <td>1.0</td>\n",
       "      <td>0.027</td>\n",
       "      <td>4.69</td>\n",
       "      <td>6.42</td>\n",
       "      <td>24.2</td>\n",
       "    </tr>\n",
       "    <tr>\n",
       "      <th>2</th>\n",
       "      <td>1.0</td>\n",
       "      <td>0.027</td>\n",
       "      <td>4.69</td>\n",
       "      <td>7.18</td>\n",
       "      <td>24.2</td>\n",
       "    </tr>\n",
       "    <tr>\n",
       "      <th>3</th>\n",
       "      <td>1.0</td>\n",
       "      <td>0.032</td>\n",
       "      <td>4.58</td>\n",
       "      <td>7.00</td>\n",
       "      <td>22.2</td>\n",
       "    </tr>\n",
       "    <tr>\n",
       "      <th>4</th>\n",
       "      <td>1.0</td>\n",
       "      <td>0.069</td>\n",
       "      <td>4.58</td>\n",
       "      <td>7.15</td>\n",
       "      <td>22.2</td>\n",
       "    </tr>\n",
       "  </tbody>\n",
       "</table>\n",
       "</div>"
      ],
      "text/plain": [
       "   const  crime   nox  rooms  proptax\n",
       "0    1.0  0.006  5.38   6.57     29.6\n",
       "1    1.0  0.027  4.69   6.42     24.2\n",
       "2    1.0  0.027  4.69   7.18     24.2\n",
       "3    1.0  0.032  4.58   7.00     22.2\n",
       "4    1.0  0.069  4.58   7.15     22.2"
      ]
     },
     "execution_count": 54,
     "metadata": {},
     "output_type": "execute_result"
    }
   ],
   "source": [
    "X9 = df[['crime', 'nox', 'rooms', 'proptax']]  # Independent variables\n",
    "X9 = sm.add_constant(X9)  # Add a constant term to the model\n",
    "y9 = df['price']  # Dependent variable\n",
    "X9.head()"
   ]
  },
  {
   "cell_type": "code",
   "execution_count": 55,
   "metadata": {},
   "outputs": [
    {
     "name": "stdout",
     "output_type": "stream",
     "text": [
      "                            OLS Regression Results                            \n",
      "==============================================================================\n",
      "Dep. Variable:                  price   R-squared:                       0.575\n",
      "Model:                            OLS   Adj. R-squared:                  0.572\n",
      "Method:                 Least Squares   F-statistic:                     169.6\n",
      "Date:                Sun, 08 Dec 2024   Prob (F-statistic):           1.06e-91\n",
      "Time:                        18:15:56   Log-Likelihood:                -5119.6\n",
      "No. Observations:                 506   AIC:                         1.025e+04\n",
      "Df Residuals:                     501   BIC:                         1.027e+04\n",
      "Df Model:                           4                                         \n",
      "Covariance Type:            nonrobust                                         \n",
      "==============================================================================\n",
      "                 coef    std err          t      P>|t|      [0.025      0.975]\n",
      "------------------------------------------------------------------------------\n",
      "const      -1.868e+04   3215.205     -5.811      0.000    -2.5e+04   -1.24e+04\n",
      "crime       -136.5438     38.529     -3.544      0.000    -212.241     -60.846\n",
      "nox         -660.4672    314.634     -2.099      0.036   -1278.632     -42.303\n",
      "rooms       7797.9286    404.345     19.285      0.000    7003.507    8592.350\n",
      "proptax      -89.4144     23.966     -3.731      0.000    -136.500     -42.329\n",
      "==============================================================================\n",
      "Omnibus:                      264.796   Durbin-Watson:                   0.752\n",
      "Prob(Omnibus):                  0.000   Jarque-Bera (JB):             2348.397\n",
      "Skew:                           2.111   Prob(JB):                         0.00\n",
      "Kurtosis:                      12.673   Cond. No.                         546.\n",
      "==============================================================================\n",
      "\n",
      "Notes:\n",
      "[1] Standard Errors assume that the covariance matrix of the errors is correctly specified.\n"
     ]
    }
   ],
   "source": [
    "# Create the model\n",
    "model9 = sm.OLS(y9, X9).fit()\n",
    "\n",
    "# Analyze model\n",
    "print(model9.summary())"
   ]
  },
  {
   "cell_type": "code",
   "execution_count": 56,
   "metadata": {},
   "outputs": [
    {
     "data": {
      "image/png": "[encoded data removed]",
      "text/plain": [
       "<Figure size 640x480 with 1 Axes>"
      ]
     },
     "metadata": {},
     "output_type": "display_data"
    }
   ],
   "source": [
    "\n",
    "# Get residuals from the model\n",
    "residuals9 = model9.resid\n",
    "\n",
    "# Plot histogram\n",
    "plt.hist(residuals9, bins=30)\n",
    "plt.title('Histogram of Residuals')\n",
    "plt.xlabel('Residual')\n",
    "plt.ylabel('Frequency')\n",
    "plt.show()"
   ]
  },
  {
   "cell_type": "markdown",
   "metadata": {},
   "source": [
    "**Comment:** The residuals are roughly centered around 0 which is a good sign, following a somewhat normal distribution. We note that the distribution is slightly skewed to the right, with a few large positive residuals, indicating that the model undervalues some observations.   The coefficients are:\n",
    "- Constant $\\beta_0$: -18680\n",
    "    - Represents the predicted price when all predictors are zero (not meaningful in this context due to unrealistic values).\n",
    "- Crime $\\beta_1$: -136.5\n",
    "    - For a one-unit increase in crime rate, house prices decrease by $136.5, holding other variables constant. Higher crime negatively impacts property values.\n",
    "- Nox $\\beta_2$: -660.5\n",
    "    - For a one-unit increase in nitrogen oxide concentration, house prices decrease by $660.5. Pollution negatively affects housing prices.\n",
    "- Rooms $\\beta_3$: 7797.9\n",
    "    - For a one-unit increase in the number of rooms, house prices increase by $7797.9. Larger houses tend to have higher prices.\n",
    "- Proptax $\\beta_4$: -89.41\n",
    "    - For a one-unit increase in property tax rate, house prices decrease by $89.41, indicating higher taxes reduce affordability and desirability.\n",
    "\n",
    "---"
   ]
  },
  {
   "cell_type": "markdown",
   "metadata": {},
   "source": [
    "\n",
    "### 10. Run a regression of `lprice` on a constant, `crime`, `nox`, `rooms`, and `proptax`. Interpret all coefficients.\n"
   ]
  },
  {
   "cell_type": "code",
   "execution_count": 57,
   "metadata": {},
   "outputs": [
    {
     "data": {
      "text/html": [
       "<div>\n",
       "<style scoped>\n",
       "    .dataframe tbody tr th:only-of-type {\n",
       "        vertical-align: middle;\n",
       "    }\n",
       "\n",
       "    .dataframe tbody tr th {\n",
       "        vertical-align: top;\n",
       "    }\n",
       "\n",
       "    .dataframe thead th {\n",
       "        text-align: right;\n",
       "    }\n",
       "</style>\n",
       "<table border=\"1\" class=\"dataframe\">\n",
       "  <thead>\n",
       "    <tr style=\"text-align: right;\">\n",
       "      <th></th>\n",
       "      <th>const</th>\n",
       "      <th>crime</th>\n",
       "      <th>nox</th>\n",
       "      <th>rooms</th>\n",
       "      <th>proptax</th>\n",
       "    </tr>\n",
       "  </thead>\n",
       "  <tbody>\n",
       "    <tr>\n",
       "      <th>0</th>\n",
       "      <td>1.0</td>\n",
       "      <td>0.006</td>\n",
       "      <td>5.38</td>\n",
       "      <td>6.57</td>\n",
       "      <td>29.6</td>\n",
       "    </tr>\n",
       "    <tr>\n",
       "      <th>1</th>\n",
       "      <td>1.0</td>\n",
       "      <td>0.027</td>\n",
       "      <td>4.69</td>\n",
       "      <td>6.42</td>\n",
       "      <td>24.2</td>\n",
       "    </tr>\n",
       "    <tr>\n",
       "      <th>2</th>\n",
       "      <td>1.0</td>\n",
       "      <td>0.027</td>\n",
       "      <td>4.69</td>\n",
       "      <td>7.18</td>\n",
       "      <td>24.2</td>\n",
       "    </tr>\n",
       "    <tr>\n",
       "      <th>3</th>\n",
       "      <td>1.0</td>\n",
       "      <td>0.032</td>\n",
       "      <td>4.58</td>\n",
       "      <td>7.00</td>\n",
       "      <td>22.2</td>\n",
       "    </tr>\n",
       "    <tr>\n",
       "      <th>4</th>\n",
       "      <td>1.0</td>\n",
       "      <td>0.069</td>\n",
       "      <td>4.58</td>\n",
       "      <td>7.15</td>\n",
       "      <td>22.2</td>\n",
       "    </tr>\n",
       "  </tbody>\n",
       "</table>\n",
       "</div>"
      ],
      "text/plain": [
       "   const  crime   nox  rooms  proptax\n",
       "0    1.0  0.006  5.38   6.57     29.6\n",
       "1    1.0  0.027  4.69   6.42     24.2\n",
       "2    1.0  0.027  4.69   7.18     24.2\n",
       "3    1.0  0.032  4.58   7.00     22.2\n",
       "4    1.0  0.069  4.58   7.15     22.2"
      ]
     },
     "execution_count": 57,
     "metadata": {},
     "output_type": "execute_result"
    }
   ],
   "source": [
    "X10 = df[['crime', 'nox', 'rooms', 'proptax']]  # Independent variables\n",
    "X10 = sm.add_constant(X10)  # Add a constant term to the model\n",
    "y10 = df['lprice']  # Dependent variable\n",
    "X10.head()\n"
   ]
  },
  {
   "cell_type": "code",
   "execution_count": 58,
   "metadata": {},
   "outputs": [
    {
     "name": "stdout",
     "output_type": "stream",
     "text": [
      "                            OLS Regression Results                            \n",
      "==============================================================================\n",
      "Dep. Variable:                 lprice   R-squared:                       0.611\n",
      "Model:                            OLS   Adj. R-squared:                  0.608\n",
      "Method:                 Least Squares   F-statistic:                     196.9\n",
      "Date:                Sun, 08 Dec 2024   Prob (F-statistic):          2.50e-101\n",
      "Time:                        18:15:57   Log-Likelihood:                -26.367\n",
      "No. Observations:                 506   AIC:                             62.73\n",
      "Df Residuals:                     501   BIC:                             83.87\n",
      "Df Model:                           4                                         \n",
      "Covariance Type:            nonrobust                                         \n",
      "==============================================================================\n",
      "                 coef    std err          t      P>|t|      [0.025      0.975]\n",
      "------------------------------------------------------------------------------\n",
      "const          8.6550      0.137     63.320      0.000       8.386       8.924\n",
      "crime         -0.0125      0.002     -7.641      0.000      -0.016      -0.009\n",
      "nox           -0.0476      0.013     -3.557      0.000      -0.074      -0.021\n",
      "rooms          0.2816      0.017     16.379      0.000       0.248       0.315\n",
      "proptax       -0.0043      0.001     -4.184      0.000      -0.006      -0.002\n",
      "==============================================================================\n",
      "Omnibus:                      118.409   Durbin-Watson:                   0.764\n",
      "Prob(Omnibus):                  0.000   Jarque-Bera (JB):              730.140\n",
      "Skew:                           0.859   Prob(JB):                    2.83e-159\n",
      "Kurtosis:                       8.629   Cond. No.                         546.\n",
      "==============================================================================\n",
      "\n",
      "Notes:\n",
      "[1] Standard Errors assume that the covariance matrix of the errors is correctly specified.\n"
     ]
    }
   ],
   "source": [
    "# Create the model\n",
    "model10 = sm.OLS(y10, X10).fit()\n",
    "\n",
    "# Analyze model\n",
    "print(model10.summary())"
   ]
  },
  {
   "cell_type": "code",
   "execution_count": 59,
   "metadata": {},
   "outputs": [
    {
     "data": {
      "image/png": "[encoded data removed]",
      "text/plain": [
       "<Figure size 640x480 with 1 Axes>"
      ]
     },
     "metadata": {},
     "output_type": "display_data"
    }
   ],
   "source": [
    "residuals10 = model10.resid\n",
    "\n",
    "# Plot histogram\n",
    "plt.hist(residuals10, bins=30)\n",
    "plt.title('Histogram of Residuals')\n",
    "plt.xlabel('Residual')\n",
    "plt.ylabel('Frequency')\n",
    "plt.show()\n"
   ]
  },
  {
   "cell_type": "markdown",
   "metadata": {},
   "source": [
    "**Comments:**  The histogram is roughly centered around 0, even more so than the last plot in question 9. The distribution is still slightly skewed to the right, but it appears to be less so than for the previous model.  \n",
    "The coefficients are:\n",
    "- Constant $\\beta_0$: 8.6550\n",
    "    - Represents the predicted log price when all predictors are zero (not meaningful in this context due to unrealistic values).\n",
    "- Crime $\\beta_1$: -0.0125\n",
    "    - For a one-unit increase in crime rate, log house prices decrease by 0.0125, holding other variables constant. Higher crime negatively impacts property values.\n",
    "- Nox $\\beta_2$: -0.0476\n",
    "    - For a one-unit increase in nitrogen oxide concentration, log house prices decrease by 0.0476. Pollution negatively affects housing prices.\n",
    "- Rooms $\\beta_3$: 0.2816\n",
    "    - For a one-unit increase in the number of rooms, log house prices increase by 0.2816. Larger houses tend to have higher prices.\n",
    "- Proptax $\\beta_4$: -0.0043\n",
    "    - For a one-unit increase in property tax rate, log house prices decrease by 0.0043, indicating higher taxes reduce affordability and desirability.\n",
    "\n",
    "---\n"
   ]
  },
  {
   "cell_type": "markdown",
   "metadata": {},
   "source": [
    "### 11. Run a regression of `lprice` on a constant, `crime`, `lnox`, `rooms`, and `lproptax`. Interpret all coefficients."
   ]
  },
  {
   "cell_type": "code",
   "execution_count": 60,
   "metadata": {},
   "outputs": [
    {
     "data": {
      "text/html": [
       "<div>\n",
       "<style scoped>\n",
       "    .dataframe tbody tr th:only-of-type {\n",
       "        vertical-align: middle;\n",
       "    }\n",
       "\n",
       "    .dataframe tbody tr th {\n",
       "        vertical-align: top;\n",
       "    }\n",
       "\n",
       "    .dataframe thead th {\n",
       "        text-align: right;\n",
       "    }\n",
       "</style>\n",
       "<table border=\"1\" class=\"dataframe\">\n",
       "  <thead>\n",
       "    <tr style=\"text-align: right;\">\n",
       "      <th></th>\n",
       "      <th>const</th>\n",
       "      <th>crime</th>\n",
       "      <th>lnox</th>\n",
       "      <th>rooms</th>\n",
       "      <th>lproptax</th>\n",
       "    </tr>\n",
       "  </thead>\n",
       "  <tbody>\n",
       "    <tr>\n",
       "      <th>0</th>\n",
       "      <td>1.0</td>\n",
       "      <td>0.006</td>\n",
       "      <td>1.682688</td>\n",
       "      <td>6.57</td>\n",
       "      <td>5.690360</td>\n",
       "    </tr>\n",
       "    <tr>\n",
       "      <th>1</th>\n",
       "      <td>1.0</td>\n",
       "      <td>0.027</td>\n",
       "      <td>1.545433</td>\n",
       "      <td>6.42</td>\n",
       "      <td>5.488938</td>\n",
       "    </tr>\n",
       "    <tr>\n",
       "      <th>2</th>\n",
       "      <td>1.0</td>\n",
       "      <td>0.027</td>\n",
       "      <td>1.545433</td>\n",
       "      <td>7.18</td>\n",
       "      <td>5.488938</td>\n",
       "    </tr>\n",
       "    <tr>\n",
       "      <th>3</th>\n",
       "      <td>1.0</td>\n",
       "      <td>0.032</td>\n",
       "      <td>1.521699</td>\n",
       "      <td>7.00</td>\n",
       "      <td>5.402678</td>\n",
       "    </tr>\n",
       "    <tr>\n",
       "      <th>4</th>\n",
       "      <td>1.0</td>\n",
       "      <td>0.069</td>\n",
       "      <td>1.521699</td>\n",
       "      <td>7.15</td>\n",
       "      <td>5.402678</td>\n",
       "    </tr>\n",
       "  </tbody>\n",
       "</table>\n",
       "</div>"
      ],
      "text/plain": [
       "   const  crime      lnox  rooms  lproptax\n",
       "0    1.0  0.006  1.682688   6.57  5.690360\n",
       "1    1.0  0.027  1.545433   6.42  5.488938\n",
       "2    1.0  0.027  1.545433   7.18  5.488938\n",
       "3    1.0  0.032  1.521699   7.00  5.402678\n",
       "4    1.0  0.069  1.521699   7.15  5.402678"
      ]
     },
     "execution_count": 60,
     "metadata": {},
     "output_type": "execute_result"
    }
   ],
   "source": [
    "X11 = df[['crime', 'lnox', 'rooms', 'lproptax']]  # Independent variables\n",
    "X11 = sm.add_constant(X11)  # Add a constant term to the model\n",
    "y11 = df['lprice']  # Dependent variable\n",
    "X11.head()"
   ]
  },
  {
   "cell_type": "code",
   "execution_count": 61,
   "metadata": {},
   "outputs": [
    {
     "name": "stdout",
     "output_type": "stream",
     "text": [
      "                            OLS Regression Results                            \n",
      "==============================================================================\n",
      "Dep. Variable:                 lprice   R-squared:                       0.612\n",
      "Model:                            OLS   Adj. R-squared:                  0.609\n",
      "Method:                 Least Squares   F-statistic:                     197.4\n",
      "Date:                Sun, 08 Dec 2024   Prob (F-statistic):          1.77e-101\n",
      "Time:                        18:15:57   Log-Likelihood:                -26.021\n",
      "No. Observations:                 506   AIC:                             62.04\n",
      "Df Residuals:                     501   BIC:                             83.18\n",
      "Df Model:                           4                                         \n",
      "Covariance Type:            nonrobust                                         \n",
      "==============================================================================\n",
      "                 coef    std err          t      P>|t|      [0.025      0.975]\n",
      "------------------------------------------------------------------------------\n",
      "const          9.7505      0.253     38.476      0.000       9.253      10.248\n",
      "crime         -0.0128      0.002     -8.002      0.000      -0.016      -0.010\n",
      "lnox          -0.2769      0.077     -3.591      0.000      -0.428      -0.125\n",
      "rooms          0.2802      0.017     16.282      0.000       0.246       0.314\n",
      "lproptax      -0.1779      0.042     -4.215      0.000      -0.261      -0.095\n",
      "==============================================================================\n",
      "Omnibus:                      116.110   Durbin-Watson:                   0.768\n",
      "Prob(Omnibus):                  0.000   Jarque-Bera (JB):              716.737\n",
      "Skew:                           0.838   Prob(JB):                    2.30e-156\n",
      "Kurtosis:                       8.585   Cond. No.                         241.\n",
      "==============================================================================\n",
      "\n",
      "Notes:\n",
      "[1] Standard Errors assume that the covariance matrix of the errors is correctly specified.\n"
     ]
    }
   ],
   "source": [
    "# Create the model\n",
    "model11 = sm.OLS(y11, X11).fit()\n",
    "\n",
    "# Analyze model\n",
    "print(model11.summary())"
   ]
  },
  {
   "cell_type": "code",
   "execution_count": 62,
   "metadata": {},
   "outputs": [
    {
     "data": {
      "image/png": "[encoded data removed]",
      "text/plain": [
       "<Figure size 640x480 with 1 Axes>"
      ]
     },
     "metadata": {},
     "output_type": "display_data"
    }
   ],
   "source": [
    "residuals11 = model11.resid\n",
    "\n",
    "# Plot histogram\n",
    "plt.hist(residuals11, bins=30)\n",
    "plt.title('Histogram of Residuals')\n",
    "plt.xlabel('Residual')\n",
    "plt.ylabel('Frequency')\n",
    "plt.show()\n"
   ]
  },
  {
   "cell_type": "markdown",
   "metadata": {},
   "source": [
    "**Comments:** Now the histogram plot of residuals is starting to look more like a normal distribution, with a slight skew to the right, and also still a few residuals on the left side around -0.8.\n",
    "\n",
    "\n",
    "The coefficients are:\n",
    "- Constant $\\beta_0$: 9.7505\n",
    "    - Represents the predicted log price when all predictors are zero (not meaningful in this context due to unrealistic values).\n",
    "- Crime $\\beta_1$: -0.0128\n",
    "    - For a one-unit increase in crime rate, log house prices decrease by 0.0128, holding other variables constant. Higher crime negatively impacts property values.\n",
    "- Lnox $\\beta_2$: -0.2769\n",
    "    - For a one-unit increase in the log of nitrogen oxide concentration, log house prices decrease by 0.2769. Pollution negatively affects housing prices.\n",
    "- Rooms $\\beta_3$: 0.2802\n",
    "    - For a one-unit increase in the number of rooms, log house prices increase by 0.2802. Larger houses tend to have higher prices.\n",
    "- Lproptax $\\beta_4$: -0.1779\n",
    "    - For a one-unit increase in the log of property tax rate, log house prices decrease by 0.1779, indicating higher taxes reduce affordability and desirability.\n",
    "\n",
    "\n",
    "---"
   ]
  },
  {
   "cell_type": "markdown",
   "metadata": {},
   "source": [
    "### 12. In the specification of question 9, test the hypothesis $H_0: \\beta_{nox} = 0$ vs. $H_1: \\beta_{nox} \\neq 0$ at the 1% level using the p-value of the test.\n"
   ]
  },
  {
   "cell_type": "markdown",
   "metadata": {},
   "source": [
    "Significance level $\\alpha = 0.01$  \n",
    "p-value for $\\beta_{nox}: p = 0.0036$\n",
    "\n",
    "If the p-value is less than the significance level, we reject the null hypothesis.  \n",
    "Since $$p = 0.0036 < 0.01 = \\alpha$$\n",
    "The p-value is less than the significance level $\\alpha$, and nox has a significant effect on price. Therefore, we reject $H_0$ in favor of $H_1$."
   ]
  },
  {
   "cell_type": "markdown",
   "metadata": {},
   "source": [
    "---"
   ]
  },
  {
   "cell_type": "markdown",
   "metadata": {},
   "source": [
    "### 13. In the specification of question 9, test the hypothesis $H_0: \\beta_{crime} = \\beta_{proptax}$ at the 10% level.\n"
   ]
  },
  {
   "cell_type": "markdown",
   "metadata": {},
   "source": [
    "We first rewrite the hypothesis as:\n",
    "$$H_0: \\beta_{crime} - \\beta_{proptax} = 0$$\n",
    "$$H_1: \\beta_{crime} - \\beta_{proptax} \\neq 0$$\n",
    "In words the null hypothesis states that the coefficients of crime and proptax are equal, while the alternative hypothesis states that they are significally different.\n",
    "\n",
    "The goal is to calculate the F-statistic and compare it to the critical value at the 10% level. And to do this we need to define a restricted model also:\n",
    "\n",
    "Our **unrestricted model** is:\n",
    "$$\n",
    "price = \\beta_0 + \\beta_1 \\cdot crime + \\beta_2 \\cdot nox + \\beta_3 \\cdot rooms + \\beta_4 \\cdot proptax + \\varepsilon\n",
    "$$\n",
    "\n",
    "Our **restricted model** is, using $\\beta_{1} = \\beta_{4}$ and substituting $\\beta_{4}$ with $\\beta_{1}$:\n",
    "$$\n",
    "price = \\beta_0 + \\beta_{1} \\cdot (crime + proptax) + \\beta_2 \\cdot nox + \\beta_3 \\cdot rooms + \\varepsilon\n",
    "$$\n",
    "\n",
    "\n",
    "\n",
    "The F-statistic is calculated as:\n",
    "$$F = \\frac{(SSR_{R} - SSR_{U})/q}{SSR_{U}/(n-k)}$$\n",
    "\n",
    "where:\n",
    "- $SSR_{R}$ is the sum of squared residuals for the restricted model\n",
    "- $SSR_{U}$ is the sum of squared residuals for the unrestricted model\n",
    "- $n$ is the number of observations\n",
    "- $k$ is the number of coefficients in the unrestricted model\n",
    "- $q$ is the number of restrictions\n",
    "\n",
    "\n",
    "\n",
    "\n"
   ]
  },
  {
   "cell_type": "code",
   "execution_count": 89,
   "metadata": {},
   "outputs": [
    {
     "name": "stdout",
     "output_type": "stream",
     "text": [
      "                            OLS Regression Results                            \n",
      "==============================================================================\n",
      "Dep. Variable:                  price   R-squared:                       0.575\n",
      "Model:                            OLS   Adj. R-squared:                  0.572\n",
      "Method:                 Least Squares   F-statistic:                     226.0\n",
      "Date:                Sun, 08 Dec 2024   Prob (F-statistic):           9.50e-93\n",
      "Time:                        18:17:00   Log-Likelihood:                -5120.0\n",
      "No. Observations:                 506   AIC:                         1.025e+04\n",
      "Df Residuals:                     502   BIC:                         1.026e+04\n",
      "Df Model:                           3                                         \n",
      "Covariance Type:            nonrobust                                         \n",
      "=================================================================================\n",
      "                    coef    std err          t      P>|t|      [0.025      0.975]\n",
      "---------------------------------------------------------------------------------\n",
      "const         -1.846e+04   3204.969     -5.761      0.000   -2.48e+04   -1.22e+04\n",
      "crime_proptax  -105.5070     15.479     -6.816      0.000    -135.919     -75.095\n",
      "nox            -601.2679    307.284     -1.957      0.051   -1204.989       2.453\n",
      "rooms          7797.7540    404.254     19.289      0.000    7003.515    8591.993\n",
      "==============================================================================\n",
      "Omnibus:                      270.096   Durbin-Watson:                   0.741\n",
      "Prob(Omnibus):                  0.000   Jarque-Bera (JB):             2478.897\n",
      "Skew:                           2.152   Prob(JB):                         0.00\n",
      "Kurtosis:                      12.952   Cond. No.                         610.\n",
      "==============================================================================\n",
      "\n",
      "Notes:\n",
      "[1] Standard Errors assume that the covariance matrix of the errors is correctly specified.\n"
     ]
    }
   ],
   "source": [
    "# The unrestriced model is the same as model 9\n",
    "model13_unrestricted = model9\n",
    "\n",
    "# Create a new variable that combines 'crime' and 'proptax'\n",
    "df['crime_proptax'] = df['crime'] + df['proptax']\n",
    "# Select the independent variables\n",
    "X13 = df[['crime_proptax', 'nox', 'rooms']]  # Include the new variable\n",
    "X13 = sm.add_constant(X13)  # Add a constant term to the model\n",
    "y13 = y9 # The same dependent variable as in model 9\n",
    "X13.head()\n",
    "\n",
    "model13_restricted = sm.OLS(y13, X13).fit()\n",
    "\n",
    "print(model13_restricted.summary())\n"
   ]
  },
  {
   "cell_type": "code",
   "execution_count": 64,
   "metadata": {},
   "outputs": [
    {
     "name": "stdout",
     "output_type": "stream",
     "text": [
      "Number of restrictions (q): 1\n",
      "Number of observations (n): 506\n",
      "Number of parameters (k): 5\n"
     ]
    }
   ],
   "source": [
    "# Extract the RRS values\n",
    "RSS13_restricted = model13_restricted.ssr\n",
    "RSS13_unrestricted = model13_unrestricted.ssr\n",
    "\n",
    "# Number of restrictions (q), observations (n), and parameters (k)\n",
    "q13 = X9.shape[1] - X13.shape[1]\n",
    "print(\"Number of restrictions (q):\", q13)\n",
    "n13 = y9.shape[0]\n",
    "print(\"Number of observations (n):\", n13)\n",
    "k13 = len(model13_unrestricted.params) # number of parameters in the unrestricted model including the constant term\n",
    "print(\"Number of parameters (k):\", k13)"
   ]
  },
  {
   "cell_type": "code",
   "execution_count": 87,
   "metadata": {},
   "outputs": [
    {
     "name": "stdout",
     "output_type": "stream",
     "text": [
      "F-statistic: 0.7738843560083407\n",
      "p-value: 0.379439828121641\n",
      "Fail to reject the null hypothesis\n",
      "\n",
      "The p-value 0.38 is greater than the alpha value 0.1\n"
     ]
    }
   ],
   "source": [
    "# F-statistic\n",
    "f_stat13 = ((RSS13_restricted - RSS13_unrestricted) / q13) / (RSS13_unrestricted / (n13 - k13))\n",
    "\n",
    "\n",
    "# Compute the p-value\n",
    "p_value13 = 1 - stats.f.cdf(f_stat13, q13, n13 - k13)\n",
    "\n",
    "print(\"F-statistic:\", f_stat13)\n",
    "print(\"p-value:\", p_value13)\n",
    "\n",
    "alpha13 = 0.10\n",
    "\n",
    "if p_value13 < alpha13:\n",
    "    print(\"Reject the null hypothesis \")\n",
    "    print(\"\\nThe p-value\", p_value13, \"is less than the alpha value\", alpha13)\n",
    "else:\n",
    "    print(\"Fail to reject the null hypothesis\")\n",
    "    print(\"\\nThe p-value\", p_value13.round(2), \"is greater than the alpha value\", alpha13)\n",
    "\n"
   ]
  },
  {
   "cell_type": "markdown",
   "metadata": {},
   "source": [
    "This means that we cannot reject the null hypothesis $$H_0 : \\beta_{crime} = \\beta_{proptax}$$ at the 10% level, as the p-value of the test is greater than the significance level. This implies that the coefficients of crime and proptax are rather equal.  \n"
   ]
  },
  {
   "cell_type": "markdown",
   "metadata": {},
   "source": [
    "#### **Alternative Approach:**\n",
    "\n",
    "This analysis tests the hypothesis $ H_0: \\beta_{\\text{crime}} = \\beta_{\\text{proptax}} $, which evaluates whether crime rate and property tax have statistically equivalent effects on housing prices. The model is reformulated by introducing a new variable $ Z = \\text{crime} + \\text{proptax} $, allowing us to isolate $ \\theta = \\beta_{\\text{crime}} - \\beta_{\\text{proptax}} $.\n",
    "\n",
    "An OLS regression is performed using the predictors:\n",
    "- A constant ($ \\text{const} $),\n",
    "- **crime rate** (for $ \\theta $),\n",
    "- $ Z $,\n",
    "- **nox** \n",
    "- **rooms** \n",
    "\n",
    "The coefficient of **crime rate** corresponds to $ \\theta $. A t-test is conducted at the 10% significance level to determine if $ \\theta = 0 $, indicating equivalent effects of crime rate and property tax.\n"
   ]
  },
  {
   "cell_type": "code",
   "execution_count": 95,
   "metadata": {},
   "outputs": [
    {
     "name": "stdout",
     "output_type": "stream",
     "text": [
      "                            OLS Regression Results                            \n",
      "==============================================================================\n",
      "Dep. Variable:                  price   R-squared:                       0.575\n",
      "Model:                            OLS   Adj. R-squared:                  0.572\n",
      "Method:                 Least Squares   F-statistic:                     169.6\n",
      "Date:                Sun, 08 Dec 2024   Prob (F-statistic):           1.06e-91\n",
      "Time:                        19:54:12   Log-Likelihood:                -5119.6\n",
      "No. Observations:                 506   AIC:                         1.025e+04\n",
      "Df Residuals:                     501   BIC:                         1.027e+04\n",
      "Df Model:                           4                                         \n",
      "Covariance Type:            nonrobust                                         \n",
      "==============================================================================\n",
      "                 coef    std err          t      P>|t|      [0.025      0.975]\n",
      "------------------------------------------------------------------------------\n",
      "const      -1.868e+04   3215.205     -5.811      0.000    -2.5e+04   -1.24e+04\n",
      "crime        -47.1294     53.574     -0.880      0.379    -152.387      58.128\n",
      "Z            -89.4144     23.966     -3.731      0.000    -136.500     -42.329\n",
      "nox         -660.4672    314.634     -2.099      0.036   -1278.632     -42.303\n",
      "rooms       7797.9286    404.345     19.285      0.000    7003.507    8592.350\n",
      "==============================================================================\n",
      "Omnibus:                      264.796   Durbin-Watson:                   0.752\n",
      "Prob(Omnibus):                  0.000   Jarque-Bera (JB):             2348.397\n",
      "Skew:                           2.111   Prob(JB):                         0.00\n",
      "Kurtosis:                      12.673   Cond. No.                         617.\n",
      "==============================================================================\n",
      "\n",
      "Notes:\n",
      "[1] Standard Errors assume that the covariance matrix of the errors is correctly specified.\n",
      "\n",
      "Do not reject the null hypothesis H0: beta_crime = beta_proptax at the 10% significance level.\n",
      "P-value: 0.3794\n"
     ]
    }
   ],
   "source": [
    "\n",
    "# Define X and y\n",
    "X132 = df[['crime', 'nox', 'rooms', 'proptax']]  # Independent variables\n",
    "X132 = sm.add_constant(X132)  # Add a constant term to the model\n",
    "y132 = df['price']  # Dependent variable\n",
    "\n",
    "# Create the new regressor Z = crime + proptax\n",
    "X132['Z'] = X132['crime'] + X132['proptax']\n",
    "\n",
    "# Redefine the independent variable set for the reformulated model\n",
    "X_reformulated = X132[['const', 'crime', 'Z', 'nox', 'rooms']]\n",
    "\n",
    "# Fit the reformulated model\n",
    "model_reformulated = sm.OLS(y132, X_reformulated).fit()\n",
    "\n",
    "\n",
    "# Compute the t-statistic and p-value for theta\n",
    "t_stat_theta = model_reformulated.tvalues['crime']\n",
    "p_value_theta = model_reformulated.pvalues['crime']\n",
    "\n",
    "# Print regression summary\n",
    "print(model_reformulated.summary())\n",
    "print()\n",
    "\n",
    "# Hypothesis test at the 10% significance level\n",
    "alpha = 0.10\n",
    "if p_value_theta < alpha:\n",
    "    print(\"Reject the null hypothesis H0: beta_crime = beta_proptax at the 10% significance level.\")\n",
    "    print(f\"P-value: {p_value_theta:.4f}\")\n",
    "else:\n",
    "    print(\"Do not reject the null hypothesis H0: beta_crime = beta_proptax at the 10% significance level.\")\n",
    "    print(f\"P-value: {p_value_theta:.4f}\")\n"
   ]
  },
  {
   "cell_type": "markdown",
   "metadata": {},
   "source": [
    "This is the same p-value as calculated above, but we can also calculate it using the t-test for the coefficients of crime and proptax. "
   ]
  },
  {
   "cell_type": "markdown",
   "metadata": {},
   "source": [
    "\n",
    "---"
   ]
  },
  {
   "cell_type": "markdown",
   "metadata": {},
   "source": [
    "### 14. In the specification of question 9, test the hypothesis $H_0: \\beta_{nox} = 0, \\beta_{proptax} = 0$ at the 10% level.\n"
   ]
  },
  {
   "cell_type": "markdown",
   "metadata": {},
   "source": [
    "In this case we have two restrictions. The null hypothesis is:\n",
    "$$H_0: \\beta_{nox} = 0, \\beta_{proptax} = 0$$\n",
    "$$H_1: \\text{At least one of the coefficients is different from 0}$$\n",
    "\n",
    "The goal is to calculate the F-statistic and compare it to the critical value at the 10% level. And to do this we have the same **unrestricted model**:\n",
    "$$\n",
    "price = \\beta_0 + \\beta_1 \\cdot crime + \\beta_2 \\cdot nox + \\beta_3 \\cdot rooms + \\beta_4 \\cdot proptax + \\varepsilon\n",
    "$$\n",
    "\n",
    "Our restricted model is, using $\\beta_{nox} = 0$ and $\\beta_{proptax} = 0$:\n",
    "$$\n",
    "price = \\beta_0 + \\beta_1 \\cdot crime + \\beta_3 \\cdot rooms + \\varepsilon\n",
    "$$\n"
   ]
  },
  {
   "cell_type": "code",
   "execution_count": 66,
   "metadata": {},
   "outputs": [],
   "source": [
    "# Same as before\n",
    "model14_unrestricted = model9\n",
    "\n",
    "# Create a new variable that removes 'nox' and 'proptax'\n",
    "X14 = df[['crime', 'rooms']]  # Exclude 'nox' and 'proptax'\n",
    "X14 = sm.add_constant(X14)  # Add a constant term to the model\n",
    "y14 = y9  # The same dependent variable as in model 9\n",
    "\n",
    "model14_restricted = sm.OLS(y14, X14).fit()"
   ]
  },
  {
   "cell_type": "code",
   "execution_count": 67,
   "metadata": {},
   "outputs": [
    {
     "name": "stdout",
     "output_type": "stream",
     "text": [
      "Number of restrictions (q): 2\n",
      "Number of observations (n): 506\n",
      "Number of parameters (k): 5\n"
     ]
    }
   ],
   "source": [
    "# Extract the RRS values\n",
    "RSS14_restricted = model14_restricted.ssr\n",
    "RSS14_unrestricted = model14_unrestricted.ssr\n",
    "\n",
    "# Number of restrictions (q), observations (n), and parameters (k)\n",
    "q14 = X9.shape[1] - X14.shape[1]\n",
    "print(\"Number of restrictions (q):\", q14)\n",
    "n14 = y9.shape[0]\n",
    "print(\"Number of observations (n):\", n14)\n",
    "k14 = len(model14_unrestricted.params) # number of parameters in the unrestricted model including the constant term\n",
    "print(\"Number of parameters (k):\", k14)\n"
   ]
  },
  {
   "cell_type": "code",
   "execution_count": 68,
   "metadata": {},
   "outputs": [
    {
     "name": "stdout",
     "output_type": "stream",
     "text": [
      "Reject the null hypothesis \n",
      "\n",
      "The p-value 0.000 is less than the alpha value 0.100\n"
     ]
    }
   ],
   "source": [
    "# F-statistic\n",
    "f_stat14 = ((RSS14_restricted - RSS14_unrestricted) / q14) / (RSS14_unrestricted / (n14 - k14))\n",
    "\n",
    "# Compute the p-value\n",
    "p_value14 = 1 - stats.f.cdf(f_stat14, q14, n14 - k14)\n",
    "\n",
    "alpha14 = 0.10\n",
    "\n",
    "if p_value14 < alpha14:\n",
    "    print(\"Reject the null hypothesis \")\n",
    "    print(f\"\\nThe p-value {p_value14:.3f} is less than the alpha value {alpha14:.3f}\")\n",
    "else:\n",
    "    print(\"Fail to reject the null hypothesis\")\n",
    "    print(f\"\\nThe p-value {p_value14:.3f} is greater than the alpha value {alpha14:.3f}\")\n"
   ]
  },
  {
   "cell_type": "markdown",
   "metadata": {},
   "source": [
    "This means that we reject the null hypothesis $$H_0 : \\beta_{nox} = 0, \\beta_{proptax} = 0$$ at the 10% level, as the p-value of the test is less than the significance level. This implies that at least one of the coefficients is different from 0.\n",
    "\n",
    "---"
   ]
  },
  {
   "cell_type": "markdown",
   "metadata": {},
   "source": [
    "### 15. In the specification of question 9, test the hypothesis $H_0: \\beta_{nox} = -500, \\beta_{proptax} = -100$ at the 10% level using the p-value of the test."
   ]
  },
  {
   "cell_type": "markdown",
   "metadata": {},
   "source": [
    "\n",
    "Since we know that the coefficients for the unrestricted model are: \n",
    "- $\\beta_{nox} = -660.5$\n",
    "- $\\beta_{proptax} = -89.41$\n",
    "\n",
    "We can suspect that this hypothesis will not rejected, as the coefficients are close to the values in the null hypothesis. The question is if it will be rejected on the 10% level.\n",
    "\n",
    "The null hypothesis is:\n",
    "$$H_0: \\beta_{nox} = -500, \\beta_{proptax} = -100$$\n",
    "The alternative hypothesis is:\n",
    "$$H_1: \\text{At least one of the coefficients is different from the values in the null hypothesis}$$\n",
    "\n",
    "To test this we impose 2 restrictions on the unrestricted model. The **unrestricted model** is still:\n",
    "$$\n",
    "price = \\beta_0 + \\beta_1 \\cdot crime + \\beta_2 \\cdot nox + \\beta_3 \\cdot rooms + \\beta_4 \\cdot proptax + \\varepsilon\n",
    "$$\n",
    "\n",
    "Our restricted model is, using $\\beta_{nox} = -500$ and $\\beta_{proptax} = -100$:\n",
    "$$\n",
    "price = \\beta_0 + \\beta_1 \\cdot crime - 500 \\cdot nox  + \\beta_3 \\cdot rooms - 100 \\cdot proptax + \\varepsilon\n",
    "$$\n"
   ]
  },
  {
   "cell_type": "code",
   "execution_count": 69,
   "metadata": {},
   "outputs": [],
   "source": [
    "model15_unrestricted = model9\n",
    "\n",
    "X15 = df[['crime', 'nox', 'rooms', 'proptax']] \n",
    "X15 = sm.add_constant(X15)\n",
    "X15['nox'] = X15['nox'] * (-500)\n",
    "X15['proptax'] = X15['proptax'] * -(100)\n",
    "y15 = y9\n",
    "\n",
    "model15_restricted = sm.OLS(y15, X15).fit()"
   ]
  },
  {
   "cell_type": "code",
   "execution_count": 70,
   "metadata": {},
   "outputs": [
    {
     "name": "stdout",
     "output_type": "stream",
     "text": [
      "Number of restrictions (q): 2\n",
      "Number of observations (n): 506\n",
      "Number of parameters (k): 5\n"
     ]
    }
   ],
   "source": [
    "# Extract the RRS values\n",
    "RSS15_restricted = model15_restricted.ssr\n",
    "RSS15_unrestricted = model15_unrestricted.ssr\n",
    "\n",
    "# Number of restrictions (q), observations (n), and parameters (k)\n",
    "q15 = 2\n",
    "print(\"Number of restrictions (q):\", q15)\n",
    "n15 = y9.shape[0]\n",
    "print(\"Number of observations (n):\", n15)\n",
    "k15 = len(model15_unrestricted.params) # number of parameters in the unrestricted model including the constant term\n",
    "print(\"Number of parameters (k):\", k15)\n"
   ]
  },
  {
   "cell_type": "code",
   "execution_count": 71,
   "metadata": {},
   "outputs": [
    {
     "name": "stdout",
     "output_type": "stream",
     "text": [
      "Fail to reject the null hypothesis\n",
      "\n",
      "The p-value 1.000 is greater than the alpha value 0.100\n"
     ]
    }
   ],
   "source": [
    "# F-statistic\n",
    "f_stat15 = ((RSS15_restricted - RSS15_unrestricted) / q15) / (RSS15_unrestricted / (n15 - k15))\n",
    "\n",
    "# Compute the p-value\n",
    "p_value15 = 1 - stats.f.cdf(f_stat15, q15, n15 - k15)\n",
    "\n",
    "alpha15 = 0.10\n",
    "\n",
    "if p_value15 < alpha15:\n",
    "    print(\"Reject the null hypothesis \")\n",
    "    print(f\"\\nThe p-value {p_value15:.3f} is less than the alpha value {alpha15:.3f}\")\n",
    "else:\n",
    "    print(\"Fail to reject the null hypothesis\")\n",
    "    print(f\"\\nThe p-value {p_value15:.3f} is greater than the alpha value {alpha15:.3f}\")\n",
    "    \n"
   ]
  },
  {
   "cell_type": "markdown",
   "metadata": {},
   "source": [
    "We failed to reject the hypothesis that the coefficients of 'nox' and 'proptax' are equal to -500 and -100, respectively. As expected, the coefficients of 'nox' and 'proptax' are not significantly different from -500 and -100, respectively.\n",
    "\n",
    "---"
   ]
  },
  {
   "cell_type": "markdown",
   "metadata": {},
   "source": [
    "### 16. In the specification of question 9, test the hypothesis that all coefficients are the same for observations with low levels of `nox` vs. medium and high levels of `nox`.\n",
    "\n",
    "\n"
   ]
  },
  {
   "cell_type": "markdown",
   "metadata": {},
   "source": [
    "#### <span style=\"color:red;\">Note that we thought that this question was ambiguous, so we provided 2 solutions: 16.1 and 16.2</span>"
   ]
  },
  {
   "cell_type": "markdown",
   "metadata": {},
   "source": [
    "#### 16.1 Solution for `Low vs Medium vs High` levels of `nox`:"
   ]
  },
  {
   "cell_type": "markdown",
   "metadata": {},
   "source": [
    "To do this we create 3 different restricted models for each group of `nox` levels:\n",
    "\n",
    "$$\n",
    "price = \\beta_0 + \\beta_1 \\cdot crime_{low_{nox}} + \\beta_2 \\cdot rooms_{low_{nox}} + \\beta_3 \\cdot nox_{low_{nox}} + \\beta_4 \\cdot proptax_{low_{nox}} + \\varepsilon\n",
    "$$\n",
    "\n",
    "$$\n",
    "price = \\beta_0 + \\beta_1 \\cdot crime_{med_{nox}} + \\beta_2 \\cdot rooms_{med_{nox}} + \\beta_3 \\cdot nox_{med_{nox}} + \\beta_4 \\cdot proptax_{med_{nox}} + \\varepsilon\n",
    "$$\n",
    "\n",
    "$$\n",
    "price = \\beta_0 + \\beta_1 \\cdot crime_{high_{nox}} + \\beta_2 \\cdot rooms_{high_{nox}} + \\beta_3 \\cdot nox_{high_{nox}} + \\beta_4 \\cdot proptax_{high_{nox}} + \\varepsilon\n",
    "$$\n",
    "\n",
    "The unrestricted model is same as before:\n",
    "$$\n",
    "price = \\beta_0 + \\beta_1 \\cdot crime + \\beta_2 \\cdot nox + \\beta_3 \\cdot rooms + \\beta_4 \\cdot proptax + \\varepsilon\n",
    "$$\n",
    "\n",
    "\n",
    "\n",
    "We can use this formula as provided in the `Course 3.pdf` slide 36:\n",
    "$$\n",
    "F = \\frac{(\\text{SSR} - (\\text{SSR}_1 + \\text{SSR}_2))}{\\text{SSR}_1 + \\text{SSR}_2} \\cdot \\frac{[n - 2(k + 1)]}{k + 1}\n",
    "$$\n",
    "\n",
    "Although, we interpret the `k + 1` as the number of parameters plus the intercept, and we are using 3 groups, so the formula should be:\n",
    "$$\n",
    "F = \\frac{(\\text{SSR} - (\\text{SSR}_1 + \\text{SSR}_2 + \\text{SSR}_3))}{\\text{SSR}_1 + \\text{SSR}_2 + \\text{SSR}_3} \\cdot \\frac{[n - 3k]}{k}\n",
    "$$\n"
   ]
  },
  {
   "cell_type": "code",
   "execution_count": 72,
   "metadata": {},
   "outputs": [],
   "source": [
    "# Create 3 dataframes based on the nox_category\n",
    "df_low = df[df['nox_category'] == 'Low']\n",
    "df_medium = df[df['nox_category'] == 'Medium']\n",
    "df_high = df[df['nox_category'] == 'High']"
   ]
  },
  {
   "cell_type": "code",
   "execution_count": 73,
   "metadata": {},
   "outputs": [],
   "source": [
    "X16_low = df_low[['crime', 'nox', 'rooms', 'proptax']]\n",
    "X16_low = sm.add_constant(X16_low)\n",
    "\n",
    "X16_medium = df_medium[['crime', 'nox', 'rooms', 'proptax']]\n",
    "X16_medium = sm.add_constant(X16_medium)\n",
    "\n",
    "X16_high = df_high[['crime', 'nox', 'rooms', 'proptax']]\n",
    "X16_high = sm.add_constant(X16_high)\n",
    "\n",
    "y16_low = df_low['price']\n",
    "y16_medium = df_medium['price']\n",
    "y16_high = df_high['price']\n",
    "\n",
    "\n",
    "model16_low = sm.OLS(y16_low, X16_low).fit()\n",
    "model16_medium = sm.OLS(y16_medium, X16_medium).fit()\n",
    "model16_high = sm.OLS(y16_high, X16_high).fit()\n",
    "model16_original = model9\n"
   ]
  },
  {
   "cell_type": "code",
   "execution_count": 74,
   "metadata": {},
   "outputs": [
    {
     "name": "stdout",
     "output_type": "stream",
     "text": [
      "Number of restrictions (q): 3\n",
      "Number of observations (n): 506\n",
      "Number of parameters (k): 5\n"
     ]
    }
   ],
   "source": [
    "RSS16_low = model16_low.ssr\n",
    "RSS16_medium = model16_medium.ssr\n",
    "RSS16_high = model16_high.ssr\n",
    "RSS16_original = model16_original.ssr\n",
    "\n",
    "q16 = 3\n",
    "print(\"Number of restrictions (q):\", q16)\n",
    "n16 = y9.shape[0]\n",
    "print(\"Number of observations (n):\", n16)\n",
    "k16 = len(model16_original.params)\n",
    "print(\"Number of parameters (k):\", k16)"
   ]
  },
  {
   "cell_type": "code",
   "execution_count": 75,
   "metadata": {},
   "outputs": [
    {
     "name": "stdout",
     "output_type": "stream",
     "text": [
      "F-statistic: 39.74626948072125\n",
      "p-value: 1.1102230246251565e-16\n",
      "Reject H0: Coefficients differ significantly across 'Low', 'Medium', and 'High' nox categories.\n"
     ]
    }
   ],
   "source": [
    "\n",
    "f_stat16 = ((RSS16_original - (RSS16_low + RSS16_medium + RSS16_high)) / (RSS16_low + RSS16_medium + RSS16_high)) * ((n16 - 3 * k16)) / k16\n",
    "\n",
    "# Compute the p-value\n",
    "p_value16 = 1 - stats.f.cdf(f_stat16, q16, n16 - 3 * k16)\n",
    "\n",
    "# Print the results\n",
    "print(f\"F-statistic: {f_stat16}\")\n",
    "print(f\"p-value: {p_value16}\")\n",
    "\n",
    "# Decision\n",
    "alpha = 0.10  # Significance level\n",
    "if p_value16 < alpha:\n",
    "    print(\"Reject H0: Coefficients differ significantly across 'Low', 'Medium', and 'High' nox categories.\")\n",
    "else:\n",
    "    print(\"Fail to reject H0: No significant difference in coefficients across nox categories.\")"
   ]
  },
  {
   "cell_type": "markdown",
   "metadata": {},
   "source": [
    "We reject the hypothesis that all coefficients are the same for observations with low levels of `nox` vs. medium and high levels of `nox`. This implies that the coefficients are significantly different across the three groups, which is interesting because it suggests that the effect of the predictors on the dependent variable varies depending on the level of `nox`. Since the p-value is increadibly low, it implies that using a pooled model (one set of coefficients for all groups) is inappropriate.\n",
    "\n",
    "---"
   ]
  },
  {
   "cell_type": "markdown",
   "metadata": {},
   "source": [
    "#### 16.2 Solution for `Low vs (Medium, High)` levels of `nox`"
   ]
  },
  {
   "cell_type": "code",
   "execution_count": 76,
   "metadata": {},
   "outputs": [
    {
     "name": "stderr",
     "output_type": "stream",
     "text": [
      "/var/folders/m7/n_7wlxws2c78dvvqtvvsykl40000gn/T/ipykernel_12590/1185345790.py:1: FutureWarning: The behavior of Series.replace (and DataFrame.replace) with CategoricalDtype is deprecated. In a future version, replace will only be used for cases that preserve the categories. To change the categories, use ser.cat.rename_categories instead.\n",
      "  df['nox_category_2'] = df['nox_category'].replace({'Medium': 'Medium_and_High', 'High': 'Medium_and_High'})\n"
     ]
    }
   ],
   "source": [
    "df['nox_category_2'] = df['nox_category'].replace({'Medium': 'Medium_and_High', 'High': 'Medium_and_High'})"
   ]
  },
  {
   "cell_type": "markdown",
   "metadata": {},
   "source": [
    "Null Hypothesis ($H_0$): The coefficients for all variables (crime, rooms, nox, and proptax) are the same for the Low and Medium_and_High groups.\n",
    "\n",
    "Alternative Hypothesis ($H_1$): At least one coefficient differs between the two groups.\n"
   ]
  },
  {
   "cell_type": "code",
   "execution_count": 77,
   "metadata": {},
   "outputs": [],
   "source": [
    "df['crime_low'] = (df['nox_category_2'] == 'Low') * df['crime']\n",
    "df['crime_medium_and_high'] = (df['nox_category_2'] == 'Medium_and_High') * df['crime']\n",
    "\n",
    "df['rooms_low'] = (df['nox_category_2'] == 'Low') * df['rooms']\n",
    "df['rooms_medium_and_high'] = (df['nox_category_2'] == 'Medium_and_High') * df['rooms']\n",
    "\n",
    "df['nox_low'] = (df['nox_category_2'] == 'Low') * df['nox']\n",
    "df['nox_medium_and_high'] = (df['nox_category_2'] == 'Medium_and_High') * df['nox']\n",
    "\n",
    "df['proptax_low'] = (df['nox_category_2'] == 'Low') * df['proptax']\n",
    "df['proptax_medium_and_high'] = (df['nox_category_2'] == 'Medium_and_High') * df['proptax']\n"
   ]
  },
  {
   "cell_type": "code",
   "execution_count": 78,
   "metadata": {},
   "outputs": [],
   "source": [
    "unrestricted_model16 = sm.OLS(\n",
    "    df['price'], \n",
    "    sm.add_constant(df[['crime_low', 'crime_medium_and_high', \n",
    "                        'rooms_low', 'rooms_medium_and_high',\n",
    "                        'nox_low', 'nox_medium_and_high',\n",
    "                        'proptax_low', 'proptax_medium_and_high']])\n",
    ").fit()\n",
    "\n",
    "restricted_model16 = sm.OLS(\n",
    "    df['price'], \n",
    "    sm.add_constant(df[['crime', 'rooms', 'nox', 'proptax']])\n",
    ").fit()\n"
   ]
  },
  {
   "cell_type": "code",
   "execution_count": 79,
   "metadata": {},
   "outputs": [
    {
     "name": "stdout",
     "output_type": "stream",
     "text": [
      "Number of restrictions (q): 4\n",
      "Number of observations (n): 506\n",
      "Number of parameters (k): 9\n"
     ]
    }
   ],
   "source": [
    "# Residual Sum of Squares (RSS)\n",
    "RSS_restricted16 = restricted_model16.ssr\n",
    "RSS_unrestricted16 = unrestricted_model16.ssr\n",
    "\n",
    "# Degrees of freedom\n",
    "q16 = len(unrestricted_model16.params) - len(restricted_model16.params)  # Number of restrictions\n",
    "print(\"Number of restrictions (q):\", q16)\n",
    "n16 = df.shape[0]  # Number of observations\n",
    "print(\"Number of observations (n):\", n16)\n",
    "k16 = len(unrestricted_model16.params)  # Number of parameters in unrestricted model\n",
    "print(\"Number of parameters (k):\", k16)"
   ]
  },
  {
   "cell_type": "code",
   "execution_count": 80,
   "metadata": {},
   "outputs": [
    {
     "name": "stdout",
     "output_type": "stream",
     "text": [
      "F-statistic: 6.0612165435984\n",
      "p-value: 9.091134829142256e-05\n",
      "Reject H0: Coefficients differ significantly between the 'Low' and 'Medium_and_High' groups.\n"
     ]
    }
   ],
   "source": [
    "\n",
    "# F-statistic\n",
    "f_stat16 = ((RSS_restricted16 - RSS_unrestricted16) / q16) / (RSS_unrestricted16 / (n16 - k16))\n",
    "\n",
    "# p-value\n",
    "p_value16 = 1 - stats.f.cdf(f_stat16, q16, n16 - k16)\n",
    "\n",
    "# Print results\n",
    "print(f\"F-statistic: {f_stat16}\")\n",
    "print(f\"p-value: {p_value16}\")\n",
    "\n",
    "# Decision\n",
    "alpha16 = 0.10\n",
    "if p_value16 < alpha:\n",
    "    print(\"Reject H0: Coefficients differ significantly between the 'Low' and 'Medium_and_High' groups.\")\n",
    "else:\n",
    "    print(\"Fail to reject H0: No significant difference in coefficients between the two groups.\")\n"
   ]
  },
  {
   "cell_type": "markdown",
   "metadata": {},
   "source": [
    "This shows that the p-value is very low for the F-test, which implies that we reject the null hypothesis. This means that the coefficients for the Low and Medium_and_High groups are significantly different, and a pooled model is inappropriate.\n",
    "\n",
    "\n",
    "---"
   ]
  },
  {
   "cell_type": "markdown",
   "metadata": {},
   "source": [
    "\n",
    "### 17. Repeat the test of question 16 but now assuming that only the coefficients of `nox` and `proptax` can change between the two groups of observations. State and test $H_0$.\n",
    "\n"
   ]
  },
  {
   "cell_type": "markdown",
   "metadata": {},
   "source": [
    "#### <span style=\"color:red;\">Same ambiguity here, solutions: 17.1 and 17.2</span>"
   ]
  },
  {
   "cell_type": "markdown",
   "metadata": {},
   "source": [
    "#### 17.1 Solution for `Low vs Medium vs High` levels of `nox`"
   ]
  },
  {
   "cell_type": "markdown",
   "metadata": {},
   "source": [
    "We just proved in the previous question that all coefficients are definetly not the same for different levels of `nox`. \n",
    "\n",
    "\n",
    "Null Hypothesis ($H_0$): The coefficients of nox and proptax are the same across groups (Low, Medium, and High nox), while other coefficients (crime, rooms, intercept) remain constant.\n",
    "Alternative Hypothesis ($H_1$): The coefficients of nox and/or proptax differ between groups.\n",
    "\n",
    "\n",
    "We approach this by creating 1 restricted model with 3 separate coefficients for `nox` and `proptax` for each of the 3 groups of `nox` levels. \n",
    "The restricted model is:\n",
    "$$\n",
    "\\begin{aligned}\n",
    "price = & \\ \\beta_0 \\\\\n",
    "       & + \\beta_1 \\cdot crime \\\\\n",
    "       & + \\beta_{21} \\cdot nox_{low} + \\beta_{22} \\cdot nox_{med} + \\beta_{23} \\cdot nox_{high} \\\\\n",
    "       & + \\beta_3 \\cdot rooms \\\\\n",
    "       & + \\beta_{41} \\cdot proptax_{low} + \\beta_{42} \\cdot proptax_{med} + \\beta_{43} \\cdot proptax_{high} \\\\\n",
    "       & + \\varepsilon\n",
    "\\end{aligned}\n",
    "$$\n",
    "\n",
    "The unrestricted model therefore:\n",
    "$$\n",
    "\\begin{aligned}\n",
    "price = & \\ \\beta_0 \\\\\n",
    "       & + \\beta_{11} \\cdot crime_{low} + \\beta_{12} \\cdot crime_{med} + \\beta_{13} \\cdot crime_{high} \\\\\n",
    "       & + \\beta_{21} \\cdot nox_{low} + \\beta_{22} \\cdot nox_{med} + \\beta_{23} \\cdot nox_{high} \\\\\n",
    "       & + \\beta_{31} \\cdot rooms_{low} + \\beta_{32} \\cdot rooms_{med} + \\beta_{33} \\cdot rooms_{high} \\\\\n",
    "       & + \\beta_{41} \\cdot proptax_{low} + \\beta_{42} \\cdot proptax_{med} + \\beta_{43} \\cdot proptax_{high} \\\\\n",
    "       & + \\varepsilon\n",
    "\\end{aligned}\n",
    "$$\n",
    "\n"
   ]
  },
  {
   "cell_type": "code",
   "execution_count": 81,
   "metadata": {},
   "outputs": [],
   "source": [
    "# Restricted model: Pool `crime`, `rooms`, and intercept, but allow `nox` and `proptax` to vary\n",
    "df['nox_low'] = (df['nox_category'] == 'Low') * df['nox']\n",
    "df['nox_medium'] = (df['nox_category'] == 'Medium') * df['nox']\n",
    "df['nox_high'] = (df['nox_category'] == 'High') * df['nox']\n",
    "\n",
    "df['proptax_low'] = (df['nox_category'] == 'Low') * df['proptax']\n",
    "df['proptax_medium'] = (df['nox_category'] == 'Medium') * df['proptax']\n",
    "df['proptax_high'] = (df['nox_category'] == 'High') * df['proptax']\n",
    "\n",
    "# Restricted model\n",
    "restricted_model = sm.OLS(\n",
    "    df['price'], \n",
    "    sm.add_constant(df[['crime', 'rooms', 'nox_low', 'nox_medium', 'nox_high', \n",
    "                        'proptax_low', 'proptax_medium', 'proptax_high']])\n",
    ").fit()\n",
    "\n",
    "# Unrestricted model: Allow all coefficients to vary across groups\n",
    "df['crime_low'] = (df['nox_category'] == 'Low') * df['crime']\n",
    "df['crime_medium'] = (df['nox_category'] == 'Medium') * df['crime']\n",
    "df['crime_high'] = (df['nox_category'] == 'High') * df['crime']\n",
    "\n",
    "df['rooms_low'] = (df['nox_category'] == 'Low') * df['rooms']\n",
    "df['rooms_medium'] = (df['nox_category'] == 'Medium') * df['rooms']\n",
    "df['rooms_high'] = (df['nox_category'] == 'High') * df['rooms']\n",
    "\n",
    "unrestricted_model = sm.OLS(\n",
    "    df['price'], \n",
    "    sm.add_constant(df[['crime_low', 'crime_medium', 'crime_high',\n",
    "                        'rooms_low', 'rooms_medium', 'rooms_high',\n",
    "                        'nox_low', 'nox_medium', 'nox_high', \n",
    "                        'proptax_low', 'proptax_medium', 'proptax_high']])\n",
    ").fit()\n"
   ]
  },
  {
   "cell_type": "code",
   "execution_count": 82,
   "metadata": {},
   "outputs": [
    {
     "name": "stdout",
     "output_type": "stream",
     "text": [
      "Number of restrictions (q): 4\n",
      "Number of observations (n): 506\n",
      "Number of parameters (k): 13\n"
     ]
    }
   ],
   "source": [
    "# Residual Sum of Squares (RSS)\n",
    "RSS_restricted = restricted_model.ssr\n",
    "RSS_unrestricted = unrestricted_model.ssr\n",
    "\n",
    "# Degrees of freedom\n",
    "q17 = len(unrestricted_model.params) - len(restricted_model.params)  # Number of restrictions\n",
    "print(\"Number of restrictions (q):\", q17)\n",
    "n17 = df.shape[0]  # Number of observations\n",
    "print(\"Number of observations (n):\", n17)\n",
    "k17 = len(unrestricted_model.params)  # Number of parameters in unrestricted model\n",
    "print(\"Number of parameters (k):\", k17)"
   ]
  },
  {
   "cell_type": "code",
   "execution_count": 83,
   "metadata": {},
   "outputs": [
    {
     "name": "stdout",
     "output_type": "stream",
     "text": [
      "F-statistic: 3.2843083846284697\n",
      "p-value: 0.011377995528363605\n",
      "\n",
      "The null hypothesis is rejected at a significance level of 5%, but not at 1%.\n"
     ]
    }
   ],
   "source": [
    "\n",
    "# F-statistic\n",
    "f_stat17 = ((RSS_restricted - RSS_unrestricted) / (RSS_unrestricted))*((n17 - 4*k17)/k17)\n",
    "\n",
    "# Compute the p-value\n",
    "p_value17 = 1 - stats.f.cdf(f_stat17, q17, n17 - q17*k17)\n",
    "\n",
    "\n",
    "# Print the results\n",
    "print(f\"F-statistic: {f_stat17}\")\n",
    "print(f\"p-value: {p_value17}\")\n",
    "print()\n",
    "\n",
    "\n",
    "# Decision\n",
    "# If we do not have a significance level we can say at which significance level we reject the null hypothesis\n",
    "\n",
    "# If no significance level is provided, interpret the p-value\n",
    "if p_value17 < 0.01:\n",
    "    print(\"The null hypothesis is rejected at a significance level of 1%.\")\n",
    "elif p_value17 < 0.05:\n",
    "    print(\"The null hypothesis is rejected at a significance level of 5%, but not at 1%.\")\n",
    "elif p_value17 < 0.10:\n",
    "    print(\"The null hypothesis is rejected at a significance level of 10%, but not at 5%.\")\n",
    "else:\n",
    "    print(\"The null hypothesis cannot be rejected even at the 10% significance level.\")\n"
   ]
  },
  {
   "cell_type": "markdown",
   "metadata": {},
   "source": [
    "This means that, compared to the previous test, we have much higher chance of accepting the null hypothesis, since the p-value is much larger in this case where we only allow `nox` and `proptax` to change between the groups.\n",
    "\n",
    "---"
   ]
  },
  {
   "cell_type": "markdown",
   "metadata": {},
   "source": [
    "#### 17.2 Solution for `Low vs (Medium, High)` levels of `nox`\n",
    "\n",
    "Null Hypothesis ($H_0$): The coefficients of nox and proptax are the same across groups (Low nox, Medium and High nox), while other coefficients (crime, rooms, intercept) remain constant.\n",
    "Alternative Hypothesis ($H_1$): The coefficients of nox and/or proptax differ between groups.\n",
    "\n",
    "The restricted model is:\n",
    "$$\n",
    "\\begin{aligned}\n",
    "price = & \\ \\beta_0 \\\\\n",
    "       & + \\beta_1 \\cdot crime \\\\\n",
    "       & + \\beta_{21} \\cdot nox_{low} + \\beta_{22} \\cdot nox_{high} \\\\\n",
    "       & + \\beta_3 \\cdot rooms \\\\\n",
    "       & + \\beta_{41} \\cdot proptax_{low} + \\beta_{42} \\cdot proptax_{high} \\\\\n",
    "       & + \\varepsilon\n",
    "\\end{aligned}\n",
    "$$\n",
    "\n",
    "The unrestricted model therefore:\n",
    "$$\n",
    "\\begin{aligned}\n",
    "price = & \\ \\beta_0 \\\\\n",
    "       & + \\beta_{11} \\cdot crime_{low} + \\beta_{12} \\cdot crime_{high} \\\\\n",
    "       & + \\beta_{21} \\cdot nox_{low} + \\beta_{22} \\cdot nox_{high} \\\\\n",
    "       & + \\beta_{31} \\cdot rooms_{low} + \\beta_{32} \\cdot rooms_{high} \\\\\n",
    "       & + \\beta_{41} \\cdot proptax_{low} + \\beta_{42} \\cdot proptax_{high} \\\\\n",
    "       & + \\varepsilon\n",
    "\\end{aligned}\n",
    "$$"
   ]
  },
  {
   "cell_type": "code",
   "execution_count": 84,
   "metadata": {},
   "outputs": [],
   "source": [
    "\n",
    "restricted_model172 = sm.OLS(\n",
    "    df['price'], \n",
    "    sm.add_constant(df[['crime', 'rooms', 'nox_low', 'nox_medium_and_high', \n",
    "                        'proptax_low', 'proptax_medium_and_high']])\n",
    ").fit()\n",
    "\n",
    "\n",
    "unrestricted_model172 = sm.OLS(\n",
    "    df['price'], \n",
    "    sm.add_constant(df[['crime_low', 'crime_medium_and_high', \n",
    "                        'rooms_low', 'rooms_medium_and_high',\n",
    "                        'nox_low', 'nox_medium_and_high',\n",
    "                        'proptax_low', 'proptax_medium_and_high']])\n",
    ").fit()"
   ]
  },
  {
   "cell_type": "code",
   "execution_count": 85,
   "metadata": {},
   "outputs": [
    {
     "name": "stdout",
     "output_type": "stream",
     "text": [
      "Number of restrictions (q): 2\n",
      "Number of observations (n): 506\n",
      "Number of parameters (k): 9\n"
     ]
    }
   ],
   "source": [
    "# Residual Sum of Squares (RSS)\n",
    "RSS_restricted172 = restricted_model172.ssr\n",
    "RSS_unrestricted172 = unrestricted_model172.ssr\n",
    "\n",
    "# Degrees of freedom\n",
    "q172 = len(unrestricted_model172.params) - len(restricted_model172.params)  # Number of restrictions\n",
    "print(\"Number of restrictions (q):\", q172)\n",
    "n172= df.shape[0]  # Number of observations\n",
    "print(\"Number of observations (n):\", n172)\n",
    "k172 = len(unrestricted_model172.params)  # Number of parameters in unrestricted model\n",
    "print(\"Number of parameters (k):\", k172)\n"
   ]
  },
  {
   "cell_type": "code",
   "execution_count": 86,
   "metadata": {},
   "outputs": [
    {
     "name": "stdout",
     "output_type": "stream",
     "text": [
      "F-statistic: 2.4675319031812553\n",
      "p-value: 0.08583216410095529\n",
      "The null hypothesis is rejected at a significance level of 10%, but not at 5%.\n"
     ]
    }
   ],
   "source": [
    "\n",
    "# F-statistic\n",
    "f_stat172 = (((RSS_restricted172 - RSS_unrestricted172)) / (RSS_unrestricted172))*((n172 - q172*k172)/k172)\n",
    "\n",
    "# p-value\n",
    "p_value172 = 1 - stats.f.cdf(f_stat172, q172, n172 - k172)\n",
    "\n",
    "# Print results\n",
    "print(f\"F-statistic: {f_stat172}\")\n",
    "print(f\"p-value: {p_value172}\")\n",
    "\n",
    "\n",
    "# If no significance level is provided, interpret the p-value\n",
    "if p_value172 < 0.01:\n",
    "    print(\"The null hypothesis is rejected at a significance level of 1%.\")\n",
    "elif p_value172 < 0.05:\n",
    "    print(\"The null hypothesis is rejected at a significance level of 5%, but not at 1%.\")\n",
    "elif p_value172 < 0.10:\n",
    "    print(\"The null hypothesis is rejected at a significance level of 10%, but not at 5%.\")\n",
    "else:\n",
    "    print(\"The null hypothesis cannot be rejected even at the 10% significance level.\")"
   ]
  },
  {
   "cell_type": "markdown",
   "metadata": {},
   "source": [
    "This makes sence because now we have showed that the significance levels, at which we can reject the null hypothesis, differ between the ambiguous analysis of `Low vs Medium vs High` and `Low vs (Medium, High)` levels of `nox`. As expected, the significance level is higher if we have 2 groups compared to 3 groups. When we used 3 groups (low, medium, high), we could reject the null hypothesis at significance level 5%, and when we used 2 groups (low, medium_high), we could reject the null hypothesis at significance level 10%. Which makes sense since the coefficients would likely vary more between 3 groups than between 2 groups.\n",
    "\n",
    "---"
   ]
  }
 ],
 "metadata": {
  "kernelspec": {
   "display_name": "absol-env",
   "language": "python",
   "name": "python3"
  },
  "language_info": {
   "codemirror_mode": {
    "name": "ipython",
    "version": 3
   },
   "file_extension": ".py",
   "mimetype": "text/x-python",
   "name": "python",
   "nbconvert_exporter": "python",
   "pygments_lexer": "ipython3",
   "version": "3.11.5"
  }
 },
 "nbformat": 4,
 "nbformat_minor": 2
}
