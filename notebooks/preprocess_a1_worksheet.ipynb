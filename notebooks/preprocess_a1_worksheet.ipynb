{
 "cells": [
  {
   "cell_type": "markdown",
   "metadata": {},
   "source": [
    "# Preprocessing A1 worksheet"
   ]
  },
  {
   "cell_type": "code",
   "execution_count": 1,
   "metadata": {},
   "outputs": [],
   "source": [
    "import pandas as pd"
   ]
  },
  {
   "cell_type": "code",
   "execution_count": null,
   "metadata": {},
   "outputs": [],
   "source": [
    "# File path for your CSV file\n",
    "file_path = '../data/a1_worksheet.csv'\n",
    "\n",
    "# Read the CSV file, skipping metadata rows, and use appropriate header rows\n",
    "df = pd.read_csv(file_path, skiprows=3, )  # Adjust `skiprows` as needed to align with your dataset structure\n",
    "# remove the first 2 rows \n",
    "df = df.iloc[3:]\n",
    "# rename first column 'Description' to 'Year'\n",
    "df.rename(columns={'Description': 'Year'}, inplace=True)\n",
    "\n",
    "# remove all columns except\n",
    "columns_to_keep = [\"Year\", \"Real GDP at market prices\", \"Unemployment rate\", \"Consumer price inflation\"]\n",
    "df = df[columns_to_keep]\n",
    "\n",
    "# Replace all ',' with '.'\n",
    "df = df.replace(',', '.', regex=True)\n",
    "\n",
    "# Normalize the minus sign (replace Unicode \"−\" with ASCII \"-\")\n",
    "df = df.replace({'−': '-'}, regex=True)\n",
    "\n",
    "# Convert all values to numeric, raising an error if conversion fails\n",
    "df = df.apply(pd.to_numeric, errors='raise')\n",
    "\n",
    "# Filter rows for the period 1900-2000 (assuming 'Year' is a column) and set index to zero based\n",
    "df = df[(df['Year'] >= 1900) & (df['Year'] <= 2000)].reset_index(drop=True)\n"
   ]
  },
  {
   "cell_type": "code",
   "execution_count": 5,
   "metadata": {},
   "outputs": [
    {
     "data": {
      "text/plain": [
       "(101, 4)"
      ]
     },
     "execution_count": 5,
     "metadata": {},
     "output_type": "execute_result"
    }
   ],
   "source": [
    "df.shape"
   ]
  },
  {
   "cell_type": "code",
   "execution_count": 3,
   "metadata": {},
   "outputs": [
    {
     "data": {
      "text/html": [
       "<div>\n",
       "<style scoped>\n",
       "    .dataframe tbody tr th:only-of-type {\n",
       "        vertical-align: middle;\n",
       "    }\n",
       "\n",
       "    .dataframe tbody tr th {\n",
       "        vertical-align: top;\n",
       "    }\n",
       "\n",
       "    .dataframe thead th {\n",
       "        text-align: right;\n",
       "    }\n",
       "</style>\n",
       "<table border=\"1\" class=\"dataframe\">\n",
       "  <thead>\n",
       "    <tr style=\"text-align: right;\">\n",
       "      <th></th>\n",
       "      <th>Year</th>\n",
       "      <th>Real GDP at market prices</th>\n",
       "      <th>Unemployment rate</th>\n",
       "      <th>Consumer price inflation</th>\n",
       "    </tr>\n",
       "  </thead>\n",
       "  <tbody>\n",
       "    <tr>\n",
       "      <th>0</th>\n",
       "      <td>1900</td>\n",
       "      <td>181160.0</td>\n",
       "      <td>3.68</td>\n",
       "      <td>4.06</td>\n",
       "    </tr>\n",
       "    <tr>\n",
       "      <th>1</th>\n",
       "      <td>1901</td>\n",
       "      <td>184975.0</td>\n",
       "      <td>4.88</td>\n",
       "      <td>-0.30</td>\n",
       "    </tr>\n",
       "    <tr>\n",
       "      <th>2</th>\n",
       "      <td>1902</td>\n",
       "      <td>187757.0</td>\n",
       "      <td>5.15</td>\n",
       "      <td>0.00</td>\n",
       "    </tr>\n",
       "    <tr>\n",
       "      <th>3</th>\n",
       "      <td>1903</td>\n",
       "      <td>186016.0</td>\n",
       "      <td>5.60</td>\n",
       "      <td>1.10</td>\n",
       "    </tr>\n",
       "    <tr>\n",
       "      <th>4</th>\n",
       "      <td>1904</td>\n",
       "      <td>188156.0</td>\n",
       "      <td>6.91</td>\n",
       "      <td>-0.40</td>\n",
       "    </tr>\n",
       "  </tbody>\n",
       "</table>\n",
       "</div>"
      ],
      "text/plain": [
       "   Year  Real GDP at market prices  Unemployment rate  \\\n",
       "0  1900                   181160.0               3.68   \n",
       "1  1901                   184975.0               4.88   \n",
       "2  1902                   187757.0               5.15   \n",
       "3  1903                   186016.0               5.60   \n",
       "4  1904                   188156.0               6.91   \n",
       "\n",
       "   Consumer price inflation  \n",
       "0                      4.06  \n",
       "1                     -0.30  \n",
       "2                      0.00  \n",
       "3                      1.10  \n",
       "4                     -0.40  "
      ]
     },
     "execution_count": 3,
     "metadata": {},
     "output_type": "execute_result"
    }
   ],
   "source": [
    "df.head()"
   ]
  },
  {
   "cell_type": "code",
   "execution_count": 4,
   "metadata": {},
   "outputs": [
    {
     "data": {
      "text/html": [
       "<div>\n",
       "<style scoped>\n",
       "    .dataframe tbody tr th:only-of-type {\n",
       "        vertical-align: middle;\n",
       "    }\n",
       "\n",
       "    .dataframe tbody tr th {\n",
       "        vertical-align: top;\n",
       "    }\n",
       "\n",
       "    .dataframe thead th {\n",
       "        text-align: right;\n",
       "    }\n",
       "</style>\n",
       "<table border=\"1\" class=\"dataframe\">\n",
       "  <thead>\n",
       "    <tr style=\"text-align: right;\">\n",
       "      <th></th>\n",
       "      <th>Year</th>\n",
       "      <th>Real GDP at market prices</th>\n",
       "      <th>Unemployment rate</th>\n",
       "      <th>Consumer price inflation</th>\n",
       "    </tr>\n",
       "  </thead>\n",
       "  <tbody>\n",
       "    <tr>\n",
       "      <th>96</th>\n",
       "      <td>1996</td>\n",
       "      <td>1243709.0</td>\n",
       "      <td>8.10</td>\n",
       "      <td>2.40</td>\n",
       "    </tr>\n",
       "    <tr>\n",
       "      <th>97</th>\n",
       "      <td>1997</td>\n",
       "      <td>1282602.0</td>\n",
       "      <td>6.97</td>\n",
       "      <td>1.82</td>\n",
       "    </tr>\n",
       "    <tr>\n",
       "      <th>98</th>\n",
       "      <td>1998</td>\n",
       "      <td>1323527.0</td>\n",
       "      <td>6.26</td>\n",
       "      <td>1.56</td>\n",
       "    </tr>\n",
       "    <tr>\n",
       "      <th>99</th>\n",
       "      <td>1999</td>\n",
       "      <td>1366983.0</td>\n",
       "      <td>5.98</td>\n",
       "      <td>1.33</td>\n",
       "    </tr>\n",
       "    <tr>\n",
       "      <th>100</th>\n",
       "      <td>2000</td>\n",
       "      <td>1418176.0</td>\n",
       "      <td>5.46</td>\n",
       "      <td>0.80</td>\n",
       "    </tr>\n",
       "  </tbody>\n",
       "</table>\n",
       "</div>"
      ],
      "text/plain": [
       "     Year  Real GDP at market prices  Unemployment rate  \\\n",
       "96   1996                  1243709.0               8.10   \n",
       "97   1997                  1282602.0               6.97   \n",
       "98   1998                  1323527.0               6.26   \n",
       "99   1999                  1366983.0               5.98   \n",
       "100  2000                  1418176.0               5.46   \n",
       "\n",
       "     Consumer price inflation  \n",
       "96                       2.40  \n",
       "97                       1.82  \n",
       "98                       1.56  \n",
       "99                       1.33  \n",
       "100                      0.80  "
      ]
     },
     "execution_count": 4,
     "metadata": {},
     "output_type": "execute_result"
    }
   ],
   "source": [
    "df.tail()"
   ]
  },
  {
   "cell_type": "code",
   "execution_count": 6,
   "metadata": {},
   "outputs": [],
   "source": [
    "# Save the cleaned data to a new CSV file\n",
    "output_file_path = '../data/a1_worksheet_cleaned.csv'\n",
    "df.to_csv(output_file_path, index=False)"
   ]
  },
  {
   "cell_type": "code",
   "execution_count": null,
   "metadata": {},
   "outputs": [],
   "source": []
  }
 ],
 "metadata": {
  "kernelspec": {
   "display_name": "absol-env",
   "language": "python",
   "name": "python3"
  },
  "language_info": {
   "codemirror_mode": {
    "name": "ipython",
    "version": 3
   },
   "file_extension": ".py",
   "mimetype": "text/x-python",
   "name": "python",
   "nbconvert_exporter": "python",
   "pygments_lexer": "ipython3",
   "version": "3.11.5"
  }
 },
 "nbformat": 4,
 "nbformat_minor": 2
}
