{
 "cells": [
  {
   "cell_type": "markdown",
   "metadata": {},
   "source": [
    "# PART 3 - TIME SERIES DATA"
   ]
  },
  {
   "cell_type": "code",
   "execution_count": 1,
   "metadata": {},
   "outputs": [],
   "source": [
    "import pandas as pd"
   ]
  },
  {
   "cell_type": "code",
   "execution_count": 2,
   "metadata": {},
   "outputs": [],
   "source": [
    "df = pd.read_csv('../data/a1_worksheet.csv')"
   ]
  },
  {
   "cell_type": "code",
   "execution_count": 3,
   "metadata": {},
   "outputs": [
    {
     "data": {
      "text/html": [
       "<div>\n",
       "<style scoped>\n",
       "    .dataframe tbody tr th:only-of-type {\n",
       "        vertical-align: middle;\n",
       "    }\n",
       "\n",
       "    .dataframe tbody tr th {\n",
       "        vertical-align: top;\n",
       "    }\n",
       "\n",
       "    .dataframe thead th {\n",
       "        text-align: right;\n",
       "    }\n",
       "</style>\n",
       "<table border=\"1\" class=\"dataframe\">\n",
       "  <thead>\n",
       "    <tr style=\"text-align: right;\">\n",
       "      <th></th>\n",
       "      <th>Back to front page</th>\n",
       "      <th>A1. Headline Annual Series</th>\n",
       "      <th>Unnamed: 2</th>\n",
       "      <th>Unnamed: 3</th>\n",
       "      <th>Unnamed: 4</th>\n",
       "      <th>Unnamed: 5</th>\n",
       "      <th>Unnamed: 6</th>\n",
       "      <th>Unnamed: 7</th>\n",
       "      <th>Unnamed: 8</th>\n",
       "      <th>Unnamed: 9</th>\n",
       "      <th>...</th>\n",
       "      <th>Unnamed: 54</th>\n",
       "      <th>Unnamed: 55</th>\n",
       "      <th>Unnamed: 56</th>\n",
       "      <th>Unnamed: 57</th>\n",
       "      <th>Unnamed: 58</th>\n",
       "      <th>Unnamed: 59</th>\n",
       "      <th>Unnamed: 60</th>\n",
       "      <th>Unnamed: 61</th>\n",
       "      <th>Unnamed: 62</th>\n",
       "      <th>Unnamed: 63</th>\n",
       "    </tr>\n",
       "  </thead>\n",
       "  <tbody>\n",
       "    <tr>\n",
       "      <th>0</th>\n",
       "      <td>NaN</td>\n",
       "      <td>NaN</td>\n",
       "      <td>NaN</td>\n",
       "      <td>NaN</td>\n",
       "      <td>NaN</td>\n",
       "      <td>NaN</td>\n",
       "      <td>NaN</td>\n",
       "      <td>NaN</td>\n",
       "      <td>NaN</td>\n",
       "      <td>NaN</td>\n",
       "      <td>...</td>\n",
       "      <td>NaN</td>\n",
       "      <td>NaN</td>\n",
       "      <td>NaN</td>\n",
       "      <td>NaN</td>\n",
       "      <td>NaN</td>\n",
       "      <td>NaN</td>\n",
       "      <td>NaN</td>\n",
       "      <td>NaN</td>\n",
       "      <td>NaN</td>\n",
       "      <td>NaN</td>\n",
       "    </tr>\n",
       "    <tr>\n",
       "      <th>1</th>\n",
       "      <td>Section</td>\n",
       "      <td>National Accounts</td>\n",
       "      <td>NaN</td>\n",
       "      <td>NaN</td>\n",
       "      <td>NaN</td>\n",
       "      <td>NaN</td>\n",
       "      <td>NaN</td>\n",
       "      <td>NaN</td>\n",
       "      <td>NaN</td>\n",
       "      <td>NaN</td>\n",
       "      <td>...</td>\n",
       "      <td>NaN</td>\n",
       "      <td>NaN</td>\n",
       "      <td>NaN</td>\n",
       "      <td>NaN</td>\n",
       "      <td>Trade</td>\n",
       "      <td>NaN</td>\n",
       "      <td>NaN</td>\n",
       "      <td>NaN</td>\n",
       "      <td>NaN</td>\n",
       "      <td>NaN</td>\n",
       "    </tr>\n",
       "    <tr>\n",
       "      <th>2</th>\n",
       "      <td>Description</td>\n",
       "      <td>Real GDP at market prices</td>\n",
       "      <td>Real GDP at factor cost</td>\n",
       "      <td>HP-filtered log real GDP at factor cost</td>\n",
       "      <td>Real gross disposable national income at marke...</td>\n",
       "      <td>Real consumption</td>\n",
       "      <td>Real investment</td>\n",
       "      <td>Stockbuilding contribution</td>\n",
       "      <td>Real government consumption of goods and services</td>\n",
       "      <td>Export volumes</td>\n",
       "      <td>...</td>\n",
       "      <td>Public Sector Net Lending(+)/Borrowing(-)</td>\n",
       "      <td>NaN</td>\n",
       "      <td>Public sector debt</td>\n",
       "      <td>NaN</td>\n",
       "      <td>Trade deficit</td>\n",
       "      <td>NaN</td>\n",
       "      <td>Current account</td>\n",
       "      <td>NaN</td>\n",
       "      <td>Current account deficit including estimated no...</td>\n",
       "      <td>NaN</td>\n",
       "    </tr>\n",
       "    <tr>\n",
       "      <th>3</th>\n",
       "      <td>Worksheet</td>\n",
       "      <td>2. Real GDP (A) 1700-2014</td>\n",
       "      <td>A2. Real GDP (A) 1700-2015</td>\n",
       "      <td>A2. Real GDP (A) 1700-2015</td>\n",
       "      <td>5. GDP, GNI and National Saving</td>\n",
       "      <td>7. GDP(E) - volumes</td>\n",
       "      <td>A7. GDP(E) - volumes</td>\n",
       "      <td>A7. GDP(E) - volumes</td>\n",
       "      <td>7. GDP(E) - volumes</td>\n",
       "      <td>A23. Trade volumes</td>\n",
       "      <td>...</td>\n",
       "      <td>A16. Fiscal data</td>\n",
       "      <td>A16. Fiscal data</td>\n",
       "      <td>A18. National Debt</td>\n",
       "      <td>A18. National Debt</td>\n",
       "      <td>A24. Trade values</td>\n",
       "      <td>A24. Trade values</td>\n",
       "      <td>A24. Trade values</td>\n",
       "      <td>A24. Trade values</td>\n",
       "      <td>A24. Trade values</td>\n",
       "      <td>A24. Trade values</td>\n",
       "    </tr>\n",
       "    <tr>\n",
       "      <th>4</th>\n",
       "      <td>Units</td>\n",
       "      <td>£mn, Chained Volume measure, 2013 prices</td>\n",
       "      <td>£mn, Chained Volume measure, 2013 prices</td>\n",
       "      <td>approx. % difference from trend</td>\n",
       "      <td>£mn, Chained Volume measure, 2013 prices.  Nom...</td>\n",
       "      <td>£mn, Chained Volume measure, 2013 prices</td>\n",
       "      <td>£mn, Chained Volume measure, 2013 prices</td>\n",
       "      <td>pp contribution to GDP(E)</td>\n",
       "      <td>£mn, Chained Volume measure, 2013 prices</td>\n",
       "      <td>£mn, Chained Volume measure, 2013 prices.</td>\n",
       "      <td>...</td>\n",
       "      <td>Calendar year total, £mn</td>\n",
       "      <td>as a % of nominal GDP</td>\n",
       "      <td>Year end stock outstanding, £mn</td>\n",
       "      <td>as a % of nominal GDP</td>\n",
       "      <td>£mn</td>\n",
       "      <td>as a % of nominal GDP</td>\n",
       "      <td>£mn</td>\n",
       "      <td>as a % of nominal GDP</td>\n",
       "      <td>£mn</td>\n",
       "      <td>as a % of nominal GDP</td>\n",
       "    </tr>\n",
       "  </tbody>\n",
       "</table>\n",
       "<p>5 rows × 64 columns</p>\n",
       "</div>"
      ],
      "text/plain": [
       "  Back to front page                A1. Headline Annual Series  \\\n",
       "0                NaN                                       NaN   \n",
       "1            Section                         National Accounts   \n",
       "2        Description                 Real GDP at market prices   \n",
       "3          Worksheet                 2. Real GDP (A) 1700-2014   \n",
       "4              Units  £mn, Chained Volume measure, 2013 prices   \n",
       "\n",
       "                                 Unnamed: 2  \\\n",
       "0                                       NaN   \n",
       "1                                       NaN   \n",
       "2                   Real GDP at factor cost   \n",
       "3                A2. Real GDP (A) 1700-2015   \n",
       "4  £mn, Chained Volume measure, 2013 prices   \n",
       "\n",
       "                                Unnamed: 3  \\\n",
       "0                                      NaN   \n",
       "1                                      NaN   \n",
       "2  HP-filtered log real GDP at factor cost   \n",
       "3               A2. Real GDP (A) 1700-2015   \n",
       "4          approx. % difference from trend   \n",
       "\n",
       "                                          Unnamed: 4  \\\n",
       "0                                                NaN   \n",
       "1                                                NaN   \n",
       "2  Real gross disposable national income at marke...   \n",
       "3                    5. GDP, GNI and National Saving   \n",
       "4  £mn, Chained Volume measure, 2013 prices.  Nom...   \n",
       "\n",
       "                                 Unnamed: 5  \\\n",
       "0                                       NaN   \n",
       "1                                       NaN   \n",
       "2                          Real consumption   \n",
       "3                       7. GDP(E) - volumes   \n",
       "4  £mn, Chained Volume measure, 2013 prices   \n",
       "\n",
       "                                 Unnamed: 6                  Unnamed: 7  \\\n",
       "0                                       NaN                         NaN   \n",
       "1                                       NaN                         NaN   \n",
       "2                           Real investment  Stockbuilding contribution   \n",
       "3                      A7. GDP(E) - volumes        A7. GDP(E) - volumes   \n",
       "4  £mn, Chained Volume measure, 2013 prices   pp contribution to GDP(E)   \n",
       "\n",
       "                                          Unnamed: 8  \\\n",
       "0                                                NaN   \n",
       "1                                                NaN   \n",
       "2  Real government consumption of goods and services   \n",
       "3                                7. GDP(E) - volumes   \n",
       "4           £mn, Chained Volume measure, 2013 prices   \n",
       "\n",
       "                                   Unnamed: 9  ...  \\\n",
       "0                                         NaN  ...   \n",
       "1                                         NaN  ...   \n",
       "2                              Export volumes  ...   \n",
       "3                         A23. Trade volumes   ...   \n",
       "4  £mn, Chained Volume measure, 2013 prices.   ...   \n",
       "\n",
       "                                 Unnamed: 54            Unnamed: 55  \\\n",
       "0                                        NaN                    NaN   \n",
       "1                                        NaN                    NaN   \n",
       "2  Public Sector Net Lending(+)/Borrowing(-)                    NaN   \n",
       "3                          A16. Fiscal data       A16. Fiscal data    \n",
       "4                   Calendar year total, £mn  as a % of nominal GDP   \n",
       "\n",
       "                       Unnamed: 56            Unnamed: 57         Unnamed: 58  \\\n",
       "0                              NaN                    NaN                 NaN   \n",
       "1                              NaN                    NaN               Trade   \n",
       "2               Public sector debt                    NaN       Trade deficit   \n",
       "3              A18. National Debt     A18. National Debt   A24. Trade values    \n",
       "4  Year end stock outstanding, £mn  as a % of nominal GDP                 £mn   \n",
       "\n",
       "             Unnamed: 59         Unnamed: 60            Unnamed: 61  \\\n",
       "0                    NaN                 NaN                    NaN   \n",
       "1                    NaN                 NaN                    NaN   \n",
       "2                    NaN    Current account                     NaN   \n",
       "3     A24. Trade values   A24. Trade values      A24. Trade values    \n",
       "4  as a % of nominal GDP                 £mn  as a % of nominal GDP   \n",
       "\n",
       "                                         Unnamed: 62            Unnamed: 63  \n",
       "0                                                NaN                    NaN  \n",
       "1                                                NaN                    NaN  \n",
       "2  Current account deficit including estimated no...                    NaN  \n",
       "3                                 A24. Trade values      A24. Trade values   \n",
       "4                                                £mn  as a % of nominal GDP  \n",
       "\n",
       "[5 rows x 64 columns]"
      ]
     },
     "execution_count": 3,
     "metadata": {},
     "output_type": "execute_result"
    }
   ],
   "source": [
    "df.head()"
   ]
  },
  {
   "cell_type": "code",
   "execution_count": 4,
   "metadata": {},
   "outputs": [],
   "source": [
    "### remember to filter only the 1900-2000 data"
   ]
  },
  {
   "cell_type": "markdown",
   "metadata": {},
   "source": [
    "24. Define strict and weak stationarity."
   ]
  },
  {
   "cell_type": "markdown",
   "metadata": {},
   "source": [
    "25. Explain ergodicity and state the ergodic theorem. Illustrate with an example."
   ]
  },
  {
   "cell_type": "markdown",
   "metadata": {},
   "source": [
    "26. Why do we need both stationarity and ergodicity?"
   ]
  },
  {
   "cell_type": "markdown",
   "metadata": {},
   "source": [
    "27. Explain “spurious regression”."
   ]
  },
  {
   "cell_type": "markdown",
   "metadata": {},
   "source": [
    "28. Make all time series stationary by computing the difference between the original variable and a moving average of order $2 \\times 10$. Give the formula for the exact weights."
   ]
  },
  {
   "cell_type": "markdown",
   "metadata": {},
   "source": [
    "29. Using the original dataset, test the unit root hypothesis for all variables."
   ]
  },
  {
   "cell_type": "markdown",
   "metadata": {},
   "source": [
    "30. Transform all variables so that they are stationary using either your answers to questions 28 or 29."
   ]
  },
  {
   "cell_type": "markdown",
   "metadata": {},
   "source": [
    "31. Explain the difference between ACF and PACF."
   ]
  },
  {
   "cell_type": "markdown",
   "metadata": {},
   "source": [
    "32. Plot and comment on the ACF and PACF of all variables."
   ]
  },
  {
   "cell_type": "markdown",
   "metadata": {},
   "source": [
    "33. Explain the principle of parsimony and its relationship with Ockham’s razor using the theory of information criterion."
   ]
  },
  {
   "cell_type": "markdown",
   "metadata": {},
   "source": [
    "34. Explain the problem of auto-correlation of the errors."
   ]
  },
  {
   "cell_type": "markdown",
   "metadata": {},
   "source": [
    "35. Using only stationary variables, run a regression of GDP on `constant`, `unemployment`, and `inflation` and test the hypothesis of no-autocorrelation of errors."
   ]
  },
  {
   "cell_type": "markdown",
   "metadata": {},
   "source": [
    "36. Regardless of your answer to question 35, correct auto-correlation with GLS. Test again for the presence of auto-correlation. Comment on your results."
   ]
  },
  {
   "cell_type": "markdown",
   "metadata": {},
   "source": [
    "\n",
    "37. For all variables, construct their lag 1 and lag 2 variables.\n"
   ]
  },
  {
   "cell_type": "markdown",
   "metadata": {},
   "source": [
    "\n",
    "38. Run a regression of GDP on `constant`, lag 1 `unemployment`, lag 2 `unemployment`, lag 1 `inflation`, and lag 2 `inflation`. What is the number of observations and why?\n"
   ]
  },
  {
   "cell_type": "markdown",
   "metadata": {},
   "source": [
    "\n",
    "39. State and test the no-Granger causality hypothesis of unemployment on GDP at the 1% level.\n"
   ]
  },
  {
   "cell_type": "markdown",
   "metadata": {},
   "source": [
    "\n",
    "40. Divide the sample into two groups: 1900-1960 and 1961-2000. Test the stability of coefficients between the two periods.\n"
   ]
  },
  {
   "cell_type": "markdown",
   "metadata": {},
   "source": [
    "\n",
    "41. Test the structural breakpoint using a trim ratio of 30% at the 1% level.\n"
   ]
  },
  {
   "cell_type": "markdown",
   "metadata": {},
   "source": [
    "\n",
    "42. Divide the sample into 3 periods of equal length. Test that the coefficients of the second and the third periods are equal. Formulate the null hypothesis and interpret your results.\n"
   ]
  },
  {
   "cell_type": "markdown",
   "metadata": {},
   "source": []
  }
 ],
 "metadata": {
  "kernelspec": {
   "display_name": "absol-env",
   "language": "python",
   "name": "python3"
  },
  "language_info": {
   "codemirror_mode": {
    "name": "ipython",
    "version": 3
   },
   "file_extension": ".py",
   "mimetype": "text/x-python",
   "name": "python",
   "nbconvert_exporter": "python",
   "pygments_lexer": "ipython3",
   "version": "3.11.5"
  }
 },
 "nbformat": 4,
 "nbformat_minor": 2
}
